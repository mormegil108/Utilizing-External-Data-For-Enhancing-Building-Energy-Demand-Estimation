{
 "cells": [
  {
   "cell_type": "markdown",
   "id": "7da5c10a",
   "metadata": {},
   "source": [
    "# UTILIZING EXTERNAL DATA FOR ENHANCING BUILDING ENERGY DEMAND ESTIMATION\n",
    "## Part 1: Data Preprocessing\n",
    "### Prepared by: Said Bolluk"
   ]
  },
  {
   "cell_type": "code",
   "execution_count": 1,
   "id": "99c32a23",
   "metadata": {},
   "outputs": [],
   "source": [
    "import numpy as np\n",
    "import pandas as pd\n",
    "import math\n",
    "import matplotlib.pyplot as plt\n",
    "import seaborn as sns\n",
    "from sklearn.pipeline import make_pipeline\n",
    "from sklearn.preprocessing import StandardScaler\n",
    "from sklearn.linear_model import LinearRegression\n",
    "from sklearn.neural_network import MLPRegressor\n",
    "from sklearn.svm import SVR\n",
    "from sklearn.ensemble import RandomForestRegressor\n",
    "from sklearn.model_selection import ShuffleSplit, cross_validate, train_test_split\n",
    "from sklearn.metrics import r2_score, mean_squared_error, mean_absolute_percentage_error, median_absolute_error"
   ]
  },
  {
   "cell_type": "markdown",
   "id": "d9ab585f",
   "metadata": {},
   "source": [
    "Use **Fivethirtyeight** style for figures:"
   ]
  },
  {
   "cell_type": "code",
   "execution_count": 2,
   "id": "eefb4823",
   "metadata": {},
   "outputs": [],
   "source": [
    "plt.style.use('fivethirtyeight')"
   ]
  },
  {
   "cell_type": "code",
   "execution_count": 3,
   "id": "c668d396",
   "metadata": {},
   "outputs": [],
   "source": [
    "data = pd.read_csv(\"2020_Building_Energy_Benchmarking.csv\")"
   ]
  },
  {
   "cell_type": "code",
   "execution_count": 4,
   "id": "21c5538a",
   "metadata": {},
   "outputs": [
    {
     "data": {
      "text/html": [
       "<div>\n",
       "<style scoped>\n",
       "    .dataframe tbody tr th:only-of-type {\n",
       "        vertical-align: middle;\n",
       "    }\n",
       "\n",
       "    .dataframe tbody tr th {\n",
       "        vertical-align: top;\n",
       "    }\n",
       "\n",
       "    .dataframe thead th {\n",
       "        text-align: right;\n",
       "    }\n",
       "</style>\n",
       "<table border=\"1\" class=\"dataframe\">\n",
       "  <thead>\n",
       "    <tr style=\"text-align: right;\">\n",
       "      <th></th>\n",
       "      <th>OSEBuildingID</th>\n",
       "      <th>DataYear</th>\n",
       "      <th>BuildingName</th>\n",
       "      <th>BuildingType</th>\n",
       "      <th>TaxParcelIdentificationNumber</th>\n",
       "      <th>Address</th>\n",
       "      <th>City</th>\n",
       "      <th>State</th>\n",
       "      <th>ZipCode</th>\n",
       "      <th>Latitude</th>\n",
       "      <th>...</th>\n",
       "      <th>ThirdLargestPropertyUseTypeGFA</th>\n",
       "      <th>Electricity(kWh)</th>\n",
       "      <th>SteamUse(kBtu)</th>\n",
       "      <th>NaturalGas(therms)</th>\n",
       "      <th>ComplianceStatus</th>\n",
       "      <th>ComplianceIssue</th>\n",
       "      <th>Electricity(kBtu)</th>\n",
       "      <th>NaturalGas(kBtu)</th>\n",
       "      <th>TotalGHGEmissions</th>\n",
       "      <th>GHGEmissionsIntensity</th>\n",
       "    </tr>\n",
       "  </thead>\n",
       "  <tbody>\n",
       "    <tr>\n",
       "      <th>0</th>\n",
       "      <td>1</td>\n",
       "      <td>2020</td>\n",
       "      <td>MAYFLOWER PARK HOTEL</td>\n",
       "      <td>NonResidential</td>\n",
       "      <td>0659000030</td>\n",
       "      <td>405 OLIVE WAY</td>\n",
       "      <td>SEATTLE</td>\n",
       "      <td>WA</td>\n",
       "      <td>98101.0</td>\n",
       "      <td>47.61220</td>\n",
       "      <td>...</td>\n",
       "      <td>NaN</td>\n",
       "      <td>801392</td>\n",
       "      <td>1457837</td>\n",
       "      <td>6326</td>\n",
       "      <td>Compliant</td>\n",
       "      <td>No Issue</td>\n",
       "      <td>2734351.0</td>\n",
       "      <td>632586.0</td>\n",
       "      <td>169.1</td>\n",
       "      <td>1.9</td>\n",
       "    </tr>\n",
       "    <tr>\n",
       "      <th>1</th>\n",
       "      <td>2</td>\n",
       "      <td>2020</td>\n",
       "      <td>PARAMOUNT HOTEL</td>\n",
       "      <td>NonResidential</td>\n",
       "      <td>0659000220</td>\n",
       "      <td>724 PINE ST</td>\n",
       "      <td>SEATTLE</td>\n",
       "      <td>WA</td>\n",
       "      <td>98101.0</td>\n",
       "      <td>47.61317</td>\n",
       "      <td>...</td>\n",
       "      <td>4622.0</td>\n",
       "      <td>568667</td>\n",
       "      <td>0</td>\n",
       "      <td>16614</td>\n",
       "      <td>Compliant</td>\n",
       "      <td>No Issue</td>\n",
       "      <td>1940292.0</td>\n",
       "      <td>1661402.0</td>\n",
       "      <td>98.6</td>\n",
       "      <td>1.1</td>\n",
       "    </tr>\n",
       "    <tr>\n",
       "      <th>2</th>\n",
       "      <td>3</td>\n",
       "      <td>2020</td>\n",
       "      <td>WESTIN HOTEL (Parent Building)</td>\n",
       "      <td>NonResidential</td>\n",
       "      <td>0659000475</td>\n",
       "      <td>1900 5TH AVE</td>\n",
       "      <td>SEATTLE</td>\n",
       "      <td>WA</td>\n",
       "      <td>98101.0</td>\n",
       "      <td>47.61367</td>\n",
       "      <td>...</td>\n",
       "      <td>0.0</td>\n",
       "      <td>7478716</td>\n",
       "      <td>10359896</td>\n",
       "      <td>8955</td>\n",
       "      <td>Compliant</td>\n",
       "      <td>No Issue</td>\n",
       "      <td>25517379.0</td>\n",
       "      <td>895500.0</td>\n",
       "      <td>1043.2</td>\n",
       "      <td>1.4</td>\n",
       "    </tr>\n",
       "    <tr>\n",
       "      <th>3</th>\n",
       "      <td>5</td>\n",
       "      <td>2020</td>\n",
       "      <td>HOTEL MAX</td>\n",
       "      <td>NonResidential</td>\n",
       "      <td>0659000640</td>\n",
       "      <td>620 STEWART ST</td>\n",
       "      <td>SEATTLE</td>\n",
       "      <td>WA</td>\n",
       "      <td>98101.0</td>\n",
       "      <td>47.61412</td>\n",
       "      <td>...</td>\n",
       "      <td>NaN</td>\n",
       "      <td>345231</td>\n",
       "      <td>917724</td>\n",
       "      <td>8871</td>\n",
       "      <td>Compliant</td>\n",
       "      <td>No Issue</td>\n",
       "      <td>1177927.0</td>\n",
       "      <td>887059.0</td>\n",
       "      <td>129.6</td>\n",
       "      <td>2.1</td>\n",
       "    </tr>\n",
       "    <tr>\n",
       "      <th>4</th>\n",
       "      <td>8</td>\n",
       "      <td>2020</td>\n",
       "      <td>WARWICK SEATTLE HOTEL</td>\n",
       "      <td>NonResidential</td>\n",
       "      <td>0659000970</td>\n",
       "      <td>401 LENORA ST</td>\n",
       "      <td>SEATTLE</td>\n",
       "      <td>WA</td>\n",
       "      <td>98121.0</td>\n",
       "      <td>47.61375</td>\n",
       "      <td>...</td>\n",
       "      <td>0.0</td>\n",
       "      <td>1102452</td>\n",
       "      <td>0</td>\n",
       "      <td>46034</td>\n",
       "      <td>Compliant</td>\n",
       "      <td>No Issue</td>\n",
       "      <td>3761566.0</td>\n",
       "      <td>4603411.0</td>\n",
       "      <td>264.5</td>\n",
       "      <td>2.3</td>\n",
       "    </tr>\n",
       "  </tbody>\n",
       "</table>\n",
       "<p>5 rows × 42 columns</p>\n",
       "</div>"
      ],
      "text/plain": [
       "   OSEBuildingID  DataYear                    BuildingName    BuildingType  \\\n",
       "0              1      2020            MAYFLOWER PARK HOTEL  NonResidential   \n",
       "1              2      2020                 PARAMOUNT HOTEL  NonResidential   \n",
       "2              3      2020  WESTIN HOTEL (Parent Building)  NonResidential   \n",
       "3              5      2020                       HOTEL MAX  NonResidential   \n",
       "4              8      2020           WARWICK SEATTLE HOTEL  NonResidential   \n",
       "\n",
       "  TaxParcelIdentificationNumber         Address     City State  ZipCode  \\\n",
       "0                    0659000030   405 OLIVE WAY  SEATTLE    WA  98101.0   \n",
       "1                    0659000220     724 PINE ST  SEATTLE    WA  98101.0   \n",
       "2                    0659000475    1900 5TH AVE  SEATTLE    WA  98101.0   \n",
       "3                    0659000640  620 STEWART ST  SEATTLE    WA  98101.0   \n",
       "4                    0659000970   401 LENORA ST  SEATTLE    WA  98121.0   \n",
       "\n",
       "   Latitude  ...  ThirdLargestPropertyUseTypeGFA Electricity(kWh)  \\\n",
       "0  47.61220  ...                             NaN           801392   \n",
       "1  47.61317  ...                          4622.0           568667   \n",
       "2  47.61367  ...                             0.0          7478716   \n",
       "3  47.61412  ...                             NaN           345231   \n",
       "4  47.61375  ...                             0.0          1102452   \n",
       "\n",
       "   SteamUse(kBtu)  NaturalGas(therms)  ComplianceStatus  ComplianceIssue  \\\n",
       "0         1457837                6326         Compliant         No Issue   \n",
       "1               0               16614         Compliant         No Issue   \n",
       "2        10359896                8955         Compliant         No Issue   \n",
       "3          917724                8871         Compliant         No Issue   \n",
       "4               0               46034         Compliant         No Issue   \n",
       "\n",
       "   Electricity(kBtu)  NaturalGas(kBtu)  TotalGHGEmissions  \\\n",
       "0          2734351.0          632586.0              169.1   \n",
       "1          1940292.0         1661402.0               98.6   \n",
       "2         25517379.0          895500.0             1043.2   \n",
       "3          1177927.0          887059.0              129.6   \n",
       "4          3761566.0         4603411.0              264.5   \n",
       "\n",
       "   GHGEmissionsIntensity  \n",
       "0                    1.9  \n",
       "1                    1.1  \n",
       "2                    1.4  \n",
       "3                    2.1  \n",
       "4                    2.3  \n",
       "\n",
       "[5 rows x 42 columns]"
      ]
     },
     "execution_count": 4,
     "metadata": {},
     "output_type": "execute_result"
    }
   ],
   "source": [
    "data.head()"
   ]
  },
  {
   "cell_type": "code",
   "execution_count": 5,
   "id": "81af77d2",
   "metadata": {},
   "outputs": [
    {
     "name": "stdout",
     "output_type": "stream",
     "text": [
      "<class 'pandas.core.frame.DataFrame'>\n",
      "RangeIndex: 3628 entries, 0 to 3627\n",
      "Data columns (total 42 columns):\n",
      " #   Column                           Non-Null Count  Dtype  \n",
      "---  ------                           --------------  -----  \n",
      " 0   OSEBuildingID                    3628 non-null   int64  \n",
      " 1   DataYear                         3628 non-null   int64  \n",
      " 2   BuildingName                     3628 non-null   object \n",
      " 3   BuildingType                     3628 non-null   object \n",
      " 4   TaxParcelIdentificationNumber    3628 non-null   object \n",
      " 5   Address                          3628 non-null   object \n",
      " 6   City                             3627 non-null   object \n",
      " 7   State                            3627 non-null   object \n",
      " 8   ZipCode                          3573 non-null   float64\n",
      " 9   Latitude                         3626 non-null   float64\n",
      " 10  Longitude                        3626 non-null   float64\n",
      " 11  Neighborhood                     3626 non-null   object \n",
      " 12  CouncilDistrictCode              3614 non-null   float64\n",
      " 13  YearBuilt                        3628 non-null   int64  \n",
      " 14  NumberofFloors                   3628 non-null   int64  \n",
      " 15  NumberofBuildings                3628 non-null   int64  \n",
      " 16  PropertyGFATotal                 3628 non-null   int64  \n",
      " 17  PropertyGFABuilding(s)           3628 non-null   int64  \n",
      " 18  PropertyGFAParking               3628 non-null   int64  \n",
      " 19  ENERGYSTARScore                  2626 non-null   float64\n",
      " 20  SiteEUIWN(kBtu/sf)               3492 non-null   float64\n",
      " 21  SiteEUI(kBtu/sf)                 3517 non-null   float64\n",
      " 22  SiteEnergyUse(kBtu)              3492 non-null   float64\n",
      " 23  SiteEnergyUseWN(kBtu)            3517 non-null   float64\n",
      " 24  SourceEUIWN(kBtu/sf)             3492 non-null   float64\n",
      " 25  SourceEUI(kBtu/sf)               3517 non-null   float64\n",
      " 26  EPAPropertyType                  3533 non-null   object \n",
      " 27  LargestPropertyUseType           3577 non-null   object \n",
      " 28  LargestPropertyUseTypeGFA        3577 non-null   float64\n",
      " 29  SecondLargestPropertyUseType     1944 non-null   object \n",
      " 30  SecondLargestPropertyUseTypeGFA  1944 non-null   float64\n",
      " 31  ThirdLargestPropertyUseType      698 non-null    object \n",
      " 32  ThirdLargestPropertyUseTypeGFA   698 non-null    float64\n",
      " 33  Electricity(kWh)                 3628 non-null   int64  \n",
      " 34  SteamUse(kBtu)                   3628 non-null   int64  \n",
      " 35  NaturalGas(therms)               3628 non-null   int64  \n",
      " 36  ComplianceStatus                 3628 non-null   object \n",
      " 37  ComplianceIssue                  3628 non-null   object \n",
      " 38  Electricity(kBtu)                3593 non-null   float64\n",
      " 39  NaturalGas(kBtu)                 3593 non-null   float64\n",
      " 40  TotalGHGEmissions                3593 non-null   float64\n",
      " 41  GHGEmissionsIntensity            3593 non-null   float64\n",
      "dtypes: float64(18), int64(11), object(13)\n",
      "memory usage: 1.2+ MB\n"
     ]
    }
   ],
   "source": [
    "data.info()"
   ]
  },
  {
   "cell_type": "markdown",
   "id": "d902d23f",
   "metadata": {},
   "source": [
    "Create a target column called **Total EUI (kbtu/sf)**, which is the summation of the end uses over the total building area: (Electricity + Steam Use + Natural) / PropertyGFABuilding(s). The unit is kBtu/sf."
   ]
  },
  {
   "cell_type": "code",
   "execution_count": 6,
   "id": "d40e2119",
   "metadata": {},
   "outputs": [],
   "source": [
    "for i in range(data.shape[0]):\n",
    "    \n",
    "    data.loc[i, \"Electricity (kbtu)\"] = data.loc[i, \"Electricity(kWh)\"] * 3.4121416\n",
    "    data.loc[i, \"NaturalGas (kbtu)\"] = data.loc[i, \"NaturalGas(therms)\"] * 99.976129\n",
    "    \n",
    "    data.loc[i, \"Total Consumption (kbtu)\"] = data.loc[i, \"Electricity (kbtu)\"] + data.loc[i, \"NaturalGas (kbtu)\"] + data.loc[i, \"SteamUse(kBtu)\"]\n",
    "    data.loc[i, \"Total EUI (kbtu/sf)\"] = data.loc[i, \"Total Consumption (kbtu)\"] / data.loc[i, \"PropertyGFABuilding(s)\"]"
   ]
  },
  {
   "cell_type": "markdown",
   "id": "2acf7438",
   "metadata": {},
   "source": [
    "We need to observe the residential buildings with only one building for simplicity."
   ]
  },
  {
   "cell_type": "code",
   "execution_count": 7,
   "id": "0ea658b5",
   "metadata": {},
   "outputs": [],
   "source": [
    "experimental_index = data.index[((data[\"BuildingType\"]==\"Multifamily LR (1-4)\") | (data[\"BuildingType\"]==\"Multifamily MR (5-9)\") | (data[\"BuildingType\"]==\"Multifamily HR (10+)\")) & (data[\"NumberofBuildings\"]==1)].tolist()\n",
    "\n",
    "data = data.loc[experimental_index]\n",
    "data = data.reset_index()\n",
    "data = data.drop(columns=\"index\")\n",
    "data = data.drop(columns=\"EPAPropertyType\")\n",
    "data = data.drop(columns=\"NumberofBuildings\")"
   ]
  },
  {
   "cell_type": "markdown",
   "id": "b053af69",
   "metadata": {},
   "source": [
    "Reduce the dataset only using the necessary columns."
   ]
  },
  {
   "cell_type": "code",
   "execution_count": 8,
   "id": "bec71cec",
   "metadata": {},
   "outputs": [],
   "source": [
    "features = [\n",
    "    \"BuildingType\", \"Neighborhood\", \"CouncilDistrictCode\",\"Latitude\", \"Longitude\", \n",
    "    \"YearBuilt\", \"NumberofFloors\", \"PropertyGFABuilding(s)\", \"Electricity (kbtu)\", \n",
    "    \"NaturalGas (kbtu)\", \"Total Consumption (kbtu)\", \"Total EUI (kbtu/sf)\",\n",
    "]\n",
    "\n",
    "reduced_data = data[features]"
   ]
  },
  {
   "cell_type": "code",
   "execution_count": 9,
   "id": "5772f4e9",
   "metadata": {},
   "outputs": [
    {
     "name": "stdout",
     "output_type": "stream",
     "text": [
      "<class 'pandas.core.frame.DataFrame'>\n",
      "RangeIndex: 1854 entries, 0 to 1853\n",
      "Data columns (total 12 columns):\n",
      " #   Column                    Non-Null Count  Dtype  \n",
      "---  ------                    --------------  -----  \n",
      " 0   BuildingType              1854 non-null   object \n",
      " 1   Neighborhood              1853 non-null   object \n",
      " 2   CouncilDistrictCode       1845 non-null   float64\n",
      " 3   Latitude                  1853 non-null   float64\n",
      " 4   Longitude                 1853 non-null   float64\n",
      " 5   YearBuilt                 1854 non-null   int64  \n",
      " 6   NumberofFloors            1854 non-null   int64  \n",
      " 7   PropertyGFABuilding(s)    1854 non-null   int64  \n",
      " 8   Electricity (kbtu)        1854 non-null   float64\n",
      " 9   NaturalGas (kbtu)         1854 non-null   float64\n",
      " 10  Total Consumption (kbtu)  1854 non-null   float64\n",
      " 11  Total EUI (kbtu/sf)       1854 non-null   float64\n",
      "dtypes: float64(7), int64(3), object(2)\n",
      "memory usage: 173.9+ KB\n"
     ]
    }
   ],
   "source": [
    "reduced_data.info()"
   ]
  },
  {
   "cell_type": "code",
   "execution_count": 10,
   "id": "ea04d3d3",
   "metadata": {},
   "outputs": [
    {
     "name": "stdout",
     "output_type": "stream",
     "text": [
      "Data: (1854, 44)\n",
      "Reduced Data: (1854, 12)\n"
     ]
    }
   ],
   "source": [
    "print(\"Data:\", data.shape)\n",
    "print(\"Reduced Data:\", reduced_data.shape)"
   ]
  },
  {
   "cell_type": "markdown",
   "id": "13b7b8b9",
   "metadata": {},
   "source": [
    "Save a copy of the reduced_data: **seattle**"
   ]
  },
  {
   "cell_type": "code",
   "execution_count": 11,
   "id": "111c98d4",
   "metadata": {},
   "outputs": [],
   "source": [
    "seattle = reduced_data.copy()"
   ]
  },
  {
   "cell_type": "code",
   "execution_count": 12,
   "id": "f5f2f902",
   "metadata": {},
   "outputs": [],
   "source": [
    "from sklearn.compose import make_column_selector as selector\n",
    "\n",
    "numerical_columns_selector = selector(dtype_exclude=object)\n",
    "categorical_columns_selector = selector(dtype_include=object)\n",
    "\n",
    "numerical_columns = numerical_columns_selector(seattle)\n",
    "categorical_columns = categorical_columns_selector(seattle)"
   ]
  },
  {
   "cell_type": "code",
   "execution_count": 13,
   "id": "21c77458",
   "metadata": {},
   "outputs": [
    {
     "name": "stdout",
     "output_type": "stream",
     "text": [
      "Numerical features: ['CouncilDistrictCode', 'Latitude', 'Longitude', 'YearBuilt', 'NumberofFloors', 'PropertyGFABuilding(s)', 'Electricity (kbtu)', 'NaturalGas (kbtu)', 'Total Consumption (kbtu)', 'Total EUI (kbtu/sf)']\n",
      "\n",
      "Categorical features: ['BuildingType', 'Neighborhood']\n"
     ]
    }
   ],
   "source": [
    "print(\"Numerical features:\", numerical_columns)\n",
    "print(\"\\nCategorical features:\", categorical_columns)"
   ]
  },
  {
   "cell_type": "markdown",
   "id": "d745d0f3",
   "metadata": {},
   "source": [
    "# Data Preprocessing"
   ]
  },
  {
   "cell_type": "code",
   "execution_count": 14,
   "id": "fc9757ec",
   "metadata": {
    "scrolled": true
   },
   "outputs": [
    {
     "data": {
      "text/plain": [
       "BuildingType                0\n",
       "Neighborhood                1\n",
       "CouncilDistrictCode         9\n",
       "Latitude                    1\n",
       "Longitude                   1\n",
       "YearBuilt                   0\n",
       "NumberofFloors              0\n",
       "PropertyGFABuilding(s)      0\n",
       "Electricity (kbtu)          0\n",
       "NaturalGas (kbtu)           0\n",
       "Total Consumption (kbtu)    0\n",
       "Total EUI (kbtu/sf)         0\n",
       "dtype: int64"
      ]
     },
     "execution_count": 14,
     "metadata": {},
     "output_type": "execute_result"
    }
   ],
   "source": [
    "seattle.isnull().sum()"
   ]
  },
  {
   "cell_type": "code",
   "execution_count": 15,
   "id": "b927acfb",
   "metadata": {},
   "outputs": [],
   "source": [
    "# Drow empty rows\n",
    "seattle = seattle.dropna(subset=[\"Neighborhood\"])\n",
    "\n",
    "# Drop the rows with zero EUI or more than 2e8 EUI\n",
    "drop_rows1 = seattle.index[seattle[\"Total Consumption (kbtu)\"]==0].tolist()\n",
    "drop_rows2 = seattle.index[seattle[\"Total Consumption (kbtu)\"]>=2e8].tolist()\n",
    "seattle = seattle.drop(drop_rows1)\n",
    "seattle = seattle.drop(drop_rows2)"
   ]
  },
  {
   "cell_type": "code",
   "execution_count": 16,
   "id": "92fd841c",
   "metadata": {},
   "outputs": [
    {
     "data": {
      "text/plain": [
       "BuildingType                0\n",
       "Neighborhood                0\n",
       "CouncilDistrictCode         8\n",
       "Latitude                    0\n",
       "Longitude                   0\n",
       "YearBuilt                   0\n",
       "NumberofFloors              0\n",
       "PropertyGFABuilding(s)      0\n",
       "Electricity (kbtu)          0\n",
       "NaturalGas (kbtu)           0\n",
       "Total Consumption (kbtu)    0\n",
       "Total EUI (kbtu/sf)         0\n",
       "dtype: int64"
      ]
     },
     "execution_count": 16,
     "metadata": {},
     "output_type": "execute_result"
    }
   ],
   "source": [
    "seattle.isnull().sum()"
   ]
  },
  {
   "cell_type": "code",
   "execution_count": 17,
   "id": "3b648417",
   "metadata": {},
   "outputs": [],
   "source": [
    "seattle = seattle.reset_index()\n",
    "seattle = seattle.drop(columns=\"index\")"
   ]
  },
  {
   "cell_type": "markdown",
   "id": "6110fbe4",
   "metadata": {},
   "source": [
    "Fill in the empyty cells for the **Council District Code** according to the neighborhoods. The neighborhood info for the council district code is obtanined from this link: https://www.seattle.gov/neighborhoods/about-seattle/neighborhoods-and-council-districts"
   ]
  },
  {
   "cell_type": "code",
   "execution_count": 18,
   "id": "50e25797",
   "metadata": {},
   "outputs": [
    {
     "data": {
      "text/html": [
       "<div>\n",
       "<style scoped>\n",
       "    .dataframe tbody tr th:only-of-type {\n",
       "        vertical-align: middle;\n",
       "    }\n",
       "\n",
       "    .dataframe tbody tr th {\n",
       "        vertical-align: top;\n",
       "    }\n",
       "\n",
       "    .dataframe thead th {\n",
       "        text-align: right;\n",
       "    }\n",
       "</style>\n",
       "<table border=\"1\" class=\"dataframe\">\n",
       "  <thead>\n",
       "    <tr style=\"text-align: right;\">\n",
       "      <th></th>\n",
       "      <th>BuildingType</th>\n",
       "      <th>Neighborhood</th>\n",
       "      <th>CouncilDistrictCode</th>\n",
       "      <th>Latitude</th>\n",
       "      <th>Longitude</th>\n",
       "      <th>YearBuilt</th>\n",
       "      <th>NumberofFloors</th>\n",
       "      <th>PropertyGFABuilding(s)</th>\n",
       "      <th>Electricity (kbtu)</th>\n",
       "      <th>NaturalGas (kbtu)</th>\n",
       "      <th>Total Consumption (kbtu)</th>\n",
       "      <th>Total EUI (kbtu/sf)</th>\n",
       "    </tr>\n",
       "  </thead>\n",
       "  <tbody>\n",
       "    <tr>\n",
       "      <th>1699</th>\n",
       "      <td>Multifamily MR (5-9)</td>\n",
       "      <td>NORTHEAST</td>\n",
       "      <td>NaN</td>\n",
       "      <td>47.65660</td>\n",
       "      <td>-122.31783</td>\n",
       "      <td>1970</td>\n",
       "      <td>7</td>\n",
       "      <td>211754</td>\n",
       "      <td>3.951683e+06</td>\n",
       "      <td>0.000000e+00</td>\n",
       "      <td>3.951683e+06</td>\n",
       "      <td>18.661669</td>\n",
       "    </tr>\n",
       "    <tr>\n",
       "      <th>1701</th>\n",
       "      <td>Multifamily LR (1-4)</td>\n",
       "      <td>DELRIDGE NEIGHBORHOODS</td>\n",
       "      <td>NaN</td>\n",
       "      <td>47.52142</td>\n",
       "      <td>-122.35916</td>\n",
       "      <td>2017</td>\n",
       "      <td>4</td>\n",
       "      <td>37434</td>\n",
       "      <td>1.299207e+06</td>\n",
       "      <td>0.000000e+00</td>\n",
       "      <td>1.299207e+06</td>\n",
       "      <td>34.706605</td>\n",
       "    </tr>\n",
       "    <tr>\n",
       "      <th>1705</th>\n",
       "      <td>Multifamily MR (5-9)</td>\n",
       "      <td>CENTRAL</td>\n",
       "      <td>NaN</td>\n",
       "      <td>47.61967</td>\n",
       "      <td>-122.30183</td>\n",
       "      <td>2017</td>\n",
       "      <td>5</td>\n",
       "      <td>33889</td>\n",
       "      <td>4.461341e+05</td>\n",
       "      <td>7.577191e+05</td>\n",
       "      <td>1.203853e+06</td>\n",
       "      <td>35.523420</td>\n",
       "    </tr>\n",
       "    <tr>\n",
       "      <th>1707</th>\n",
       "      <td>Multifamily MR (5-9)</td>\n",
       "      <td>DOWNTOWN</td>\n",
       "      <td>NaN</td>\n",
       "      <td>47.61860</td>\n",
       "      <td>-122.35480</td>\n",
       "      <td>2016</td>\n",
       "      <td>6</td>\n",
       "      <td>32489</td>\n",
       "      <td>7.159458e+05</td>\n",
       "      <td>4.970813e+05</td>\n",
       "      <td>1.213027e+06</td>\n",
       "      <td>37.336548</td>\n",
       "    </tr>\n",
       "    <tr>\n",
       "      <th>1720</th>\n",
       "      <td>Multifamily MR (5-9)</td>\n",
       "      <td>SOUTHWEST</td>\n",
       "      <td>NaN</td>\n",
       "      <td>47.56204</td>\n",
       "      <td>-122.38813</td>\n",
       "      <td>2017</td>\n",
       "      <td>6</td>\n",
       "      <td>23090</td>\n",
       "      <td>5.825822e+05</td>\n",
       "      <td>4.399949e+05</td>\n",
       "      <td>1.022577e+06</td>\n",
       "      <td>44.286582</td>\n",
       "    </tr>\n",
       "    <tr>\n",
       "      <th>1721</th>\n",
       "      <td>Multifamily LR (1-4)</td>\n",
       "      <td>NORTHEAST</td>\n",
       "      <td>NaN</td>\n",
       "      <td>47.66216</td>\n",
       "      <td>-122.30837</td>\n",
       "      <td>2016</td>\n",
       "      <td>4</td>\n",
       "      <td>17153</td>\n",
       "      <td>4.724724e+05</td>\n",
       "      <td>1.239704e+04</td>\n",
       "      <td>4.848695e+05</td>\n",
       "      <td>28.267327</td>\n",
       "    </tr>\n",
       "    <tr>\n",
       "      <th>1722</th>\n",
       "      <td>Multifamily LR (1-4)</td>\n",
       "      <td>BALLARD</td>\n",
       "      <td>NaN</td>\n",
       "      <td>47.69591</td>\n",
       "      <td>-122.37353</td>\n",
       "      <td>2015</td>\n",
       "      <td>4</td>\n",
       "      <td>114259</td>\n",
       "      <td>2.124631e+06</td>\n",
       "      <td>1.682498e+06</td>\n",
       "      <td>3.807130e+06</td>\n",
       "      <td>33.320173</td>\n",
       "    </tr>\n",
       "    <tr>\n",
       "      <th>1727</th>\n",
       "      <td>Multifamily MR (5-9)</td>\n",
       "      <td>EAST</td>\n",
       "      <td>NaN</td>\n",
       "      <td>47.62257</td>\n",
       "      <td>-122.32403</td>\n",
       "      <td>2017</td>\n",
       "      <td>7</td>\n",
       "      <td>32667</td>\n",
       "      <td>7.705059e+05</td>\n",
       "      <td>3.101260e+05</td>\n",
       "      <td>1.080632e+06</td>\n",
       "      <td>33.080230</td>\n",
       "    </tr>\n",
       "  </tbody>\n",
       "</table>\n",
       "</div>"
      ],
      "text/plain": [
       "              BuildingType            Neighborhood  CouncilDistrictCode  \\\n",
       "1699  Multifamily MR (5-9)               NORTHEAST                  NaN   \n",
       "1701  Multifamily LR (1-4)  DELRIDGE NEIGHBORHOODS                  NaN   \n",
       "1705  Multifamily MR (5-9)                 CENTRAL                  NaN   \n",
       "1707  Multifamily MR (5-9)                DOWNTOWN                  NaN   \n",
       "1720  Multifamily MR (5-9)               SOUTHWEST                  NaN   \n",
       "1721  Multifamily LR (1-4)               NORTHEAST                  NaN   \n",
       "1722  Multifamily LR (1-4)                 BALLARD                  NaN   \n",
       "1727  Multifamily MR (5-9)                    EAST                  NaN   \n",
       "\n",
       "      Latitude  Longitude  YearBuilt  NumberofFloors  PropertyGFABuilding(s)  \\\n",
       "1699  47.65660 -122.31783       1970               7                  211754   \n",
       "1701  47.52142 -122.35916       2017               4                   37434   \n",
       "1705  47.61967 -122.30183       2017               5                   33889   \n",
       "1707  47.61860 -122.35480       2016               6                   32489   \n",
       "1720  47.56204 -122.38813       2017               6                   23090   \n",
       "1721  47.66216 -122.30837       2016               4                   17153   \n",
       "1722  47.69591 -122.37353       2015               4                  114259   \n",
       "1727  47.62257 -122.32403       2017               7                   32667   \n",
       "\n",
       "      Electricity (kbtu)  NaturalGas (kbtu)  Total Consumption (kbtu)  \\\n",
       "1699        3.951683e+06       0.000000e+00              3.951683e+06   \n",
       "1701        1.299207e+06       0.000000e+00              1.299207e+06   \n",
       "1705        4.461341e+05       7.577191e+05              1.203853e+06   \n",
       "1707        7.159458e+05       4.970813e+05              1.213027e+06   \n",
       "1720        5.825822e+05       4.399949e+05              1.022577e+06   \n",
       "1721        4.724724e+05       1.239704e+04              4.848695e+05   \n",
       "1722        2.124631e+06       1.682498e+06              3.807130e+06   \n",
       "1727        7.705059e+05       3.101260e+05              1.080632e+06   \n",
       "\n",
       "      Total EUI (kbtu/sf)  \n",
       "1699            18.661669  \n",
       "1701            34.706605  \n",
       "1705            35.523420  \n",
       "1707            37.336548  \n",
       "1720            44.286582  \n",
       "1721            28.267327  \n",
       "1722            33.320173  \n",
       "1727            33.080230  "
      ]
     },
     "execution_count": 18,
     "metadata": {},
     "output_type": "execute_result"
    }
   ],
   "source": [
    "district_index = seattle.index[seattle[\"CouncilDistrictCode\"].isna()].tolist()\n",
    "seattle.loc[district_index]"
   ]
  },
  {
   "cell_type": "code",
   "execution_count": 19,
   "id": "d0fde0e9",
   "metadata": {},
   "outputs": [],
   "source": [
    "missing_council = seattle.index[seattle[\"CouncilDistrictCode\"].isna()].tolist()\n",
    "new_distric_codes = np.array([4, 1, 3, 7, 1, 4, 6, 3])\n",
    "\n",
    "for i in range(8):\n",
    "    \n",
    "    council_index, new_value = missing_council[i], new_distric_codes[i]\n",
    "    seattle.loc[council_index, \"CouncilDistrictCode\"] = new_value"
   ]
  },
  {
   "cell_type": "code",
   "execution_count": 20,
   "id": "6a253a9f",
   "metadata": {},
   "outputs": [
    {
     "data": {
      "text/plain": [
       "BuildingType                0\n",
       "Neighborhood                0\n",
       "CouncilDistrictCode         0\n",
       "Latitude                    0\n",
       "Longitude                   0\n",
       "YearBuilt                   0\n",
       "NumberofFloors              0\n",
       "PropertyGFABuilding(s)      0\n",
       "Electricity (kbtu)          0\n",
       "NaturalGas (kbtu)           0\n",
       "Total Consumption (kbtu)    0\n",
       "Total EUI (kbtu/sf)         0\n",
       "dtype: int64"
      ]
     },
     "execution_count": 20,
     "metadata": {},
     "output_type": "execute_result"
    }
   ],
   "source": [
    "seattle.isnull().sum()"
   ]
  },
  {
   "cell_type": "markdown",
   "id": "79906e97",
   "metadata": {},
   "source": [
    "Try to plot the scatter with colors according to the council district of each point"
   ]
  },
  {
   "cell_type": "code",
   "execution_count": 21,
   "id": "e6dd881f",
   "metadata": {},
   "outputs": [
    {
     "data": {
      "image/png": "[encoded data removed]",
      "text/plain": [
       "<Figure size 432x504 with 1 Axes>"
      ]
     },
     "metadata": {
      "needs_background": "light"
     },
     "output_type": "display_data"
    }
   ],
   "source": [
    "colors = [\"grey\", \"turquoise\", \"darkgoldenrod\", \"seagreen\", \"orange\", \"blueviolet\", \"black\"]\n",
    "color_list = [colors[int(i-1)] for i in seattle.loc[:, \"CouncilDistrictCode\"]]\n",
    "\n",
    "ax = seattle.plot.scatter(x=\"Longitude\", y=\"Latitude\", c=color_list, figsize=(6,7))\n",
    "plt.show()"
   ]
  },
  {
   "cell_type": "markdown",
   "id": "a628dca4",
   "metadata": {},
   "source": [
    "From the above scatter plot, we see that there are many points with wrong council district code."
   ]
  },
  {
   "cell_type": "markdown",
   "id": "9864b0bb",
   "metadata": {},
   "source": [
    "Generalize the neighborhoods"
   ]
  },
  {
   "cell_type": "code",
   "execution_count": 22,
   "id": "f38c94e8",
   "metadata": {},
   "outputs": [],
   "source": [
    "north = seattle.index[seattle[\"Neighborhood\"]==\"SHARED: NORTH &amp; NORTHWEST\"].tolist()\n",
    "for i in north:\n",
    "    seattle.loc[i, \"Neighborhood\"] = \"NORTH\"\n",
    "    \n",
    "central = seattle.index[seattle[\"Neighborhood\"]==\"SHARED: CENTRAL &amp; EAST\"].tolist()\n",
    "for i in central:\n",
    "    seattle.loc[i, \"Neighborhood\"] = \"CENTRAL\"\n",
    "    \n",
    "delridge = seattle.index[seattle[\"Neighborhood\"]==\"SHARED: GREATER DUWAMISH &amp; DELRIDGE NEIGHBORHOODS\"].tolist()\n",
    "for i in delridge:\n",
    "    seattle.loc[i, \"Neighborhood\"] = \"DELRIDGE NEIGHBORHOODS\"\n",
    "    \n",
    "ballard = seattle.index[seattle[\"Neighborhood\"]==\"SHARED: BALLARD &amp; LAKE UNION\"].tolist()\n",
    "for i in ballard:\n",
    "    seattle.loc[i, \"Neighborhood\"] = \"BALLARD\"\n",
    "    \n",
    "north_west = seattle.index[seattle[\"Neighborhood\"]==\"SHARED: LAKE UNION &amp; NORTHWEST\"].tolist()\n",
    "for i in north_west:\n",
    "    seattle.loc[i, \"Neighborhood\"] = \"NORTHWEST\"\n",
    "    \n",
    "north_west = seattle.index[seattle[\"Neighborhood\"]==\"SHARED: LAKE UNION &amp; NORTHWEST\"].tolist() + seattle.index[seattle[\"Neighborhood\"]==\"SHARED: BALLARD &amp; NORTHWEST\"].tolist()\n",
    "for i in north_west:\n",
    "    seattle.loc[i, \"Neighborhood\"] = \"NORTHWEST\"\n",
    "    \n",
    "lake = seattle.index[seattle[\"Neighborhood\"]==\"water\"].tolist()\n",
    "for i in lake:\n",
    "    seattle.loc[i, \"Neighborhood\"] = \"LAKE UNION\""
   ]
  },
  {
   "cell_type": "markdown",
   "id": "72877024",
   "metadata": {},
   "source": [
    "Try to fix the council district codes according to the neihborhood info:"
   ]
  },
  {
   "cell_type": "code",
   "execution_count": 23,
   "id": "cbe49010",
   "metadata": {},
   "outputs": [],
   "source": [
    "seven = seattle.index[seattle[\"Neighborhood\"]==\"DOWNTOWN\"].tolist() + seattle.index[seattle[\"Neighborhood\"]==\"MAGNOLIA / QUEEN ANNE\"].tolist()\n",
    "for i in seven:\n",
    "    seattle.loc[i, \"CouncilDistrictCode\"] = 7\n",
    "    \n",
    "six = seattle.index[seattle[\"Neighborhood\"]==\"BALLARD\"].tolist() + seattle.index[seattle[\"Neighborhood\"]==\"NORTHWEST\"].tolist()\n",
    "for i in six:\n",
    "    seattle.loc[i, \"CouncilDistrictCode\"] = 6\n",
    "    \n",
    "five = seattle.index[seattle[\"Neighborhood\"]==\"NORTH\"].tolist()\n",
    "for i in five:\n",
    "    seattle.loc[i, \"CouncilDistrictCode\"] = 5\n",
    "    \n",
    "four = seattle.index[seattle[\"Neighborhood\"]==\"NORTHEAST\"].tolist()\n",
    "for i in four:\n",
    "    seattle.loc[i, \"CouncilDistrictCode\"] = 4\n",
    "    \n",
    "three = seattle.index[seattle[\"Neighborhood\"]==\"CENTRAL\"].tolist() + seattle.index[seattle[\"Neighborhood\"]==\"EAST\"].tolist() + seattle.index[seattle[\"Neighborhood\"]==\"LAKE UNION\"].tolist()\n",
    "for i in three:\n",
    "    seattle.loc[i, \"CouncilDistrictCode\"] = 3\n",
    "    \n",
    "two = seattle.index[seattle[\"Neighborhood\"]==\"GREATER DUWAMISH\"].tolist() + seattle.index[seattle[\"Neighborhood\"]==\"SOUTHEAST\"].tolist()\n",
    "for i in two:\n",
    "    seattle.loc[i, \"CouncilDistrictCode\"] = 2"
   ]
  },
  {
   "cell_type": "markdown",
   "id": "668bc85f",
   "metadata": {},
   "source": [
    "Finally, edit the council code using the longitude and latitude info:"
   ]
  },
  {
   "cell_type": "code",
   "execution_count": 24,
   "id": "a1f09c90",
   "metadata": {},
   "outputs": [],
   "source": [
    "# CouncilDistrictCode==4\n",
    "c4_1 = seattle.index[(abs(seattle[\"Longitude\"])<=122.338) & (abs(seattle[\"Longitude\"])>=122.322) & (seattle[\"Latitude\"]>=47.63) & (seattle[\"Latitude\"]<=47.666)].tolist()\n",
    "c4_2 = seattle.index[(abs(seattle[\"Longitude\"])<=122.377) & (abs(seattle[\"Longitude\"])>=122.33) & (seattle[\"Latitude\"]>=47.642) & (seattle[\"Latitude\"]<=47.666)].tolist()\n",
    "\n",
    "for i in c4_1:\n",
    "    seattle.loc[i, \"CouncilDistrictCode\"] = 4\n",
    "    \n",
    "for k in c4_2:\n",
    "    if seattle.loc[k, \"CouncilDistrictCode\"] == 3:\n",
    "        seattle.loc[k, \"CouncilDistrictCode\"] = 4\n",
    "    else:\n",
    "        pass\n",
    "    \n",
    "# CouncilDistrictCode==5\n",
    "c5_1 = seattle.index[(seattle[\"Latitude\"]>=47.7002)].tolist()\n",
    "for l in c5_1:\n",
    "    seattle.loc[l, \"CouncilDistrictCode\"] = 5\n",
    "    \n",
    "# CouncilDistrictCode==7\n",
    "c7_1 = seattle.index[(abs(seattle[\"Longitude\"])>=122.3358) & (seattle[\"CouncilDistrictCode\"]==3)].tolist()\n",
    "for j in c7_1:\n",
    "    seattle.loc[j, \"CouncilDistrictCode\"] = 7\n",
    "    \n",
    "# CouncilDistrictCode==2\n",
    "c2_1 = seattle.index[(abs(seattle[\"Longitude\"])<=122.337) & (seattle[\"Latitude\"]<=47.603) & (seattle[\"CouncilDistrictCode\"]==7)].tolist()\n",
    "for m in c2_1:\n",
    "    seattle.loc[m, \"CouncilDistrictCode\"] = 2\n",
    "\n",
    "# CouncilDistrictCode==3\n",
    "c3_1 = seattle.index[(abs(seattle[\"Longitude\"])<=122.337) & (seattle[\"Latitude\"]>=47.603) & (seattle[\"CouncilDistrictCode\"]==7)].tolist()\n",
    "for n in c3_1:\n",
    "    seattle.loc[n, \"CouncilDistrictCode\"] = 3"
   ]
  },
  {
   "cell_type": "code",
   "execution_count": 25,
   "id": "862bdadb",
   "metadata": {},
   "outputs": [
    {
     "data": {
      "image/png": "[encoded data removed]",
      "text/plain": [
       "<Figure size 432x504 with 1 Axes>"
      ]
     },
     "metadata": {
      "needs_background": "light"
     },
     "output_type": "display_data"
    }
   ],
   "source": [
    "colors = [\"grey\", \"turquoise\", \"darkgoldenrod\", \"seagreen\", \"orange\", \"blueviolet\", \"black\"]\n",
    "color_list = [colors[int(i-1)] for i in seattle.loc[:, \"CouncilDistrictCode\"]]\n",
    "\n",
    "ax = seattle.plot.scatter(x=\"Longitude\", y=\"Latitude\", c=color_list, figsize=(6,7))\n",
    "plt.grid(which=\"both\", axis=\"both\")\n",
    "plt.show()"
   ]
  },
  {
   "cell_type": "markdown",
   "id": "d0a945d9",
   "metadata": {},
   "source": [
    "Now, we will create new features from either the original dataset or external sources to enhance the overall correlation between the feature set and the target."
   ]
  },
  {
   "cell_type": "markdown",
   "id": "2970a605",
   "metadata": {},
   "source": [
    "# 1) Energy Use Type"
   ]
  },
  {
   "cell_type": "markdown",
   "id": "ea43b149",
   "metadata": {},
   "source": [
    "Determine the energy use type of a building comparing different end uses"
   ]
  },
  {
   "cell_type": "code",
   "execution_count": 26,
   "id": "22409953",
   "metadata": {},
   "outputs": [],
   "source": [
    "electricity_index = seattle.index[seattle[\"NaturalGas (kbtu)\"]==0].tolist()\n",
    "gas_index = seattle.index[seattle[\"Electricity (kbtu)\"]==0].tolist()\n",
    "mixed = seattle.index[(seattle[\"Electricity (kbtu)\"]!=0) & (seattle[\"NaturalGas (kbtu)\"]!=0)].tolist()"
   ]
  },
  {
   "cell_type": "code",
   "execution_count": 27,
   "id": "379e7cb1",
   "metadata": {},
   "outputs": [],
   "source": [
    "for i in range(seattle.shape[0]):\n",
    "    \n",
    "    if i in mixed:\n",
    "        ratio = seattle.loc[i, \"Electricity (kbtu)\"] / seattle.loc[i, \"NaturalGas (kbtu)\"]\n",
    "        \n",
    "        if ratio >= 1.7:\n",
    "            seattle.loc[i, \"Energy Use\"] = \"Electricity\"\n",
    "            \n",
    "        elif (ratio > 0.7) & (ratio < 1.7):\n",
    "            seattle.loc[i, \"Energy Use\"] = \"Mixed\"\n",
    "            \n",
    "        elif ratio <= 0.7:\n",
    "            seattle.loc[i, \"Energy Use\"] = \"Natural Gas\"\n",
    "            \n",
    "    else:    \n",
    "        if i in electricity_index:\n",
    "            seattle.loc[i, \"Energy Use\"] = \"Electricity\"\n",
    "\n",
    "        elif i in gas_index:\n",
    "            seattle.loc[i, \"Energy Use\"] = \"Natural Gas\""
   ]
  },
  {
   "cell_type": "code",
   "execution_count": 28,
   "id": "5b94c191",
   "metadata": {},
   "outputs": [
    {
     "data": {
      "text/plain": [
       "Electricity    1256\n",
       "Mixed           351\n",
       "Natural Gas     214\n",
       "Name: Energy Use, dtype: int64"
      ]
     },
     "execution_count": 28,
     "metadata": {},
     "output_type": "execute_result"
    }
   ],
   "source": [
    "seattle[\"Energy Use\"].value_counts()"
   ]
  },
  {
   "cell_type": "code",
   "execution_count": 29,
   "id": "9fb2b382",
   "metadata": {},
   "outputs": [
    {
     "data": {
      "image/png": "[encoded data removed]",
      "text/plain": [
       "<Figure size 576x432 with 1 Axes>"
      ]
     },
     "metadata": {
      "needs_background": "light"
     },
     "output_type": "display_data"
    }
   ],
   "source": [
    "group = seattle.groupby(by=\"Energy Use\")[\"Total Consumption (kbtu)\"].mean()\n",
    "\n",
    "plt.figure(figsize=(8, 6))\n",
    "plt.bar(x=group.index.tolist(), height=group.values)\n",
    "plt.xticks(rotation=\"horizontal\")\n",
    "plt.xlabel(\"Energy Use Type\")\n",
    "plt.ylabel(\"Average Energy Consumption (kBtu)\")\n",
    "plt.show()"
   ]
  },
  {
   "cell_type": "code",
   "execution_count": 30,
   "id": "e85752c5",
   "metadata": {},
   "outputs": [],
   "source": [
    "seattle = seattle.drop(columns=[\"Electricity (kbtu)\", \"NaturalGas (kbtu)\"])"
   ]
  },
  {
   "cell_type": "code",
   "execution_count": 31,
   "id": "66d5dd53",
   "metadata": {},
   "outputs": [
    {
     "name": "stdout",
     "output_type": "stream",
     "text": [
      "<class 'pandas.core.frame.DataFrame'>\n",
      "RangeIndex: 1821 entries, 0 to 1820\n",
      "Data columns (total 11 columns):\n",
      " #   Column                    Non-Null Count  Dtype  \n",
      "---  ------                    --------------  -----  \n",
      " 0   BuildingType              1821 non-null   object \n",
      " 1   Neighborhood              1821 non-null   object \n",
      " 2   CouncilDistrictCode       1821 non-null   float64\n",
      " 3   Latitude                  1821 non-null   float64\n",
      " 4   Longitude                 1821 non-null   float64\n",
      " 5   YearBuilt                 1821 non-null   int64  \n",
      " 6   NumberofFloors            1821 non-null   int64  \n",
      " 7   PropertyGFABuilding(s)    1821 non-null   int64  \n",
      " 8   Total Consumption (kbtu)  1821 non-null   float64\n",
      " 9   Total EUI (kbtu/sf)       1821 non-null   float64\n",
      " 10  Energy Use                1821 non-null   object \n",
      "dtypes: float64(5), int64(3), object(3)\n",
      "memory usage: 156.6+ KB\n"
     ]
    }
   ],
   "source": [
    "seattle.info()"
   ]
  },
  {
   "cell_type": "code",
   "execution_count": 32,
   "id": "18656469",
   "metadata": {},
   "outputs": [],
   "source": [
    "seattle.to_csv(\"seattle.csv\", index=False)"
   ]
  },
  {
   "cell_type": "markdown",
   "id": "61b35c4d",
   "metadata": {},
   "source": [
    "# 2) CLIMATE"
   ]
  },
  {
   "cell_type": "markdown",
   "id": "5f4d9a7b",
   "metadata": {},
   "source": [
    "## 2.1) Landmarks"
   ]
  },
  {
   "cell_type": "markdown",
   "id": "b94ff7e7",
   "metadata": {},
   "source": [
    "Now, assign landmarks using the latitude and longitude info"
   ]
  },
  {
   "cell_type": "code",
   "execution_count": 33,
   "id": "78ea0a60",
   "metadata": {},
   "outputs": [],
   "source": [
    "# COUNCIL 1\n",
    "# Coastal Areas\n",
    "c1_coastal1 = seattle.index[(abs(seattle[\"Longitude\"])<=122.425) & (abs(seattle[\"Longitude\"])>=122.336) & (seattle[\"Latitude\"]>=47.576) & (seattle[\"Latitude\"]<=47.597)].tolist()\n",
    "c1_coastal2 = seattle.index[(abs(seattle[\"Longitude\"])>=122.374) & (seattle[\"Latitude\"]>=47.49) & (seattle[\"Latitude\"]<=47.58)].tolist()\n",
    "# Green Areas\n",
    "c1_green1 = seattle.index[(abs(seattle[\"Longitude\"])<=122.388) & (abs(seattle[\"Longitude\"])>=122.383) & (seattle[\"Latitude\"]>=47.591) & (seattle[\"Latitude\"]<=47.595)].tolist()\n",
    "c1_green2 = seattle.index[(abs(seattle[\"Longitude\"])<=122.409) & (abs(seattle[\"Longitude\"])>=122.396) & (seattle[\"Latitude\"]>=47.571) & (seattle[\"Latitude\"]<=47.5795)].tolist()\n",
    "c1_green3 = seattle.index[(abs(seattle[\"Longitude\"])<=122.387) & (abs(seattle[\"Longitude\"])>=122.382) & (seattle[\"Latitude\"]>=47.576) & (seattle[\"Latitude\"]<=47.58)].tolist()\n",
    "c1_green4 = seattle.index[(abs(seattle[\"Longitude\"])<=122.377) & (abs(seattle[\"Longitude\"])>=122.362) & (seattle[\"Latitude\"]>=47.553) & (seattle[\"Latitude\"]<=47.565)].tolist()\n",
    "c1_green5 = seattle.index[(abs(seattle[\"Longitude\"])<=122.346) & (abs(seattle[\"Longitude\"])>=122.333) & (seattle[\"Latitude\"]>=47.517) & (seattle[\"Latitude\"]<=47.527)].tolist()\n",
    "c1_green6 = seattle.index[(abs(seattle[\"Longitude\"])<=122.372) & (abs(seattle[\"Longitude\"])>=122.364) & (seattle[\"Latitude\"]>=47.523) & (seattle[\"Latitude\"]<=47.529)].tolist()\n",
    "c1_green7 = seattle.index[(abs(seattle[\"Longitude\"])<=122.388) & (abs(seattle[\"Longitude\"])>=122.378) & (seattle[\"Latitude\"]>=47.515) & (seattle[\"Latitude\"]<=47.522)].tolist()\n",
    "# Coastal and Green Areas\n",
    "c1_coastal_green1 = seattle.index[(abs(seattle[\"Longitude\"])<=122.362) & (abs(seattle[\"Longitude\"])>=122.341) & (seattle[\"Latitude\"]>=47.535) & (seattle[\"Latitude\"]<=47.569)].tolist()"
   ]
  },
  {
   "cell_type": "code",
   "execution_count": 34,
   "id": "c1b1a3cf",
   "metadata": {},
   "outputs": [],
   "source": [
    "# COUNCIL 2\n",
    "# Coastal Areas\n",
    "c2_coastal1 = seattle.index[(abs(seattle[\"Longitude\"])<=122.348) & (abs(seattle[\"Longitude\"])>=122.334) & (seattle[\"Latitude\"]>=47.55) & (seattle[\"Latitude\"]<=47.605)].tolist()\n",
    "c2_coastal2 = seattle.index[(abs(seattle[\"Longitude\"])<=122.287) & (abs(seattle[\"Longitude\"])>=122.233) & (seattle[\"Latitude\"]>=47.508) & (seattle[\"Latitude\"]<=47.588)].tolist()\n",
    "# Green Areas\n",
    "c2_green1 = seattle.index[(abs(seattle[\"Longitude\"])<=122.335) & (abs(seattle[\"Longitude\"])>=122.328) & (seattle[\"Latitude\"]>=47.59) & (seattle[\"Latitude\"]<=47.597)].tolist()\n",
    "c2_green2 = seattle.index[(abs(seattle[\"Longitude\"])<=122.315) & (abs(seattle[\"Longitude\"])>=122.295) & (seattle[\"Latitude\"]>=47.558) & (seattle[\"Latitude\"]<=47.572)].tolist()\n",
    "c2_green3 = seattle.index[(abs(seattle[\"Longitude\"])<=122.289) & (abs(seattle[\"Longitude\"])>=122.274) & (seattle[\"Latitude\"]>=47.56) & (seattle[\"Latitude\"]<=47.565)].tolist()\n",
    "c2_green4 = seattle.index[(abs(seattle[\"Longitude\"])<=122.321) & (abs(seattle[\"Longitude\"])>=122.316) & (seattle[\"Latitude\"]>=47.557) & (seattle[\"Latitude\"]<=47.562)].tolist()\n",
    "c2_green5 = seattle.index[(abs(seattle[\"Longitude\"])<=122.297) & (abs(seattle[\"Longitude\"])>=122.288) & (seattle[\"Latitude\"]>=47.538) & (seattle[\"Latitude\"]<=47.541)].tolist()\n",
    "c2_green6 = seattle.index[(abs(seattle[\"Longitude\"])<=122.262) & (abs(seattle[\"Longitude\"])>=122.258) & (seattle[\"Latitude\"]>=47.513) & (seattle[\"Latitude\"]<=47.516)].tolist()\n",
    "c2_green7 = seattle.index[(abs(seattle[\"Longitude\"])<=122.284) & (abs(seattle[\"Longitude\"])>=122.278) & (seattle[\"Latitude\"]>=47.546) & (seattle[\"Latitude\"]<=47.55)].tolist()\n",
    "# Coastal and Green Areas\n",
    "c2_coastal_green1 = seattle.index[(abs(seattle[\"Longitude\"])<=122.266) & (abs(seattle[\"Longitude\"])>=122.26) & (seattle[\"Latitude\"]>=47.521) & (seattle[\"Latitude\"]<=47.531)].tolist()"
   ]
  },
  {
   "cell_type": "code",
   "execution_count": 35,
   "id": "bac9a32c",
   "metadata": {},
   "outputs": [],
   "source": [
    "# COUNCIL 3\n",
    "# Coastal Areas\n",
    "c3_coastal1 = seattle.index[(abs(seattle[\"Longitude\"])<=122.28) & (seattle[\"CouncilDistrictCode\"]==3)].tolist()\n",
    "c3_coastal2 = seattle.index[(abs(seattle[\"Longitude\"])<=122.3298) & (abs(seattle[\"Longitude\"])>=122.2784) & (seattle[\"Latitude\"]>=47.6421) & (seattle[\"CouncilDistrictCode\"]==3)].tolist()\n",
    "c3_coastal3 = seattle.index[(abs(seattle[\"Longitude\"])>=122.327) & (seattle[\"Latitude\"]>=47.6259) & (seattle[\"CouncilDistrictCode\"]==3)].tolist()\n",
    "# Green Areas\n",
    "c3_green1 = seattle.index[(abs(seattle[\"Longitude\"])<=122.334) & (abs(seattle[\"Longitude\"])>=122.33) & (seattle[\"Latitude\"]>=47.59) & (seattle[\"Latitude\"]<=47.597)].tolist()\n",
    "c3_green2 = seattle.index[(abs(seattle[\"Longitude\"])<=122.298) & (abs(seattle[\"Longitude\"])>=122.285) & (seattle[\"Latitude\"]>=47.62) & (seattle[\"Latitude\"]<=47.64)].tolist()\n",
    "c3_green3 = seattle.index[(abs(seattle[\"Longitude\"])<=122.318) & (abs(seattle[\"Longitude\"])>=122.312) & (seattle[\"Latitude\"]>=47.628) & (seattle[\"Latitude\"]<=47.636)].tolist()\n",
    "c3_green4 = seattle.index[(abs(seattle[\"Longitude\"])<=122.309) & (abs(seattle[\"Longitude\"])>=122.303) & (seattle[\"Latitude\"]>=47.6324) & (seattle[\"Latitude\"]<=47.637)].tolist()\n",
    "# Coastal and Green Areas\n",
    "c3_coastal_green1 = seattle.index[(abs(seattle[\"Longitude\"])<=122.314) & (abs(seattle[\"Longitude\"])>=122.3063) & (seattle[\"Latitude\"]>=47.64) & (seattle[\"Latitude\"]<=47.6435)].tolist()\n",
    "c3_coastal_green2 = seattle.index[(abs(seattle[\"Longitude\"])<=122.297) & (abs(seattle[\"Longitude\"])>=122.285) & (seattle[\"Latitude\"]>=47.64) & (seattle[\"Latitude\"]<=47.6469)].tolist()"
   ]
  },
  {
   "cell_type": "code",
   "execution_count": 36,
   "id": "d5dff295",
   "metadata": {},
   "outputs": [],
   "source": [
    "# COUNCIL 4\n",
    "# Coastal Areas\n",
    "c4_coastal1 = seattle.index[(abs(seattle[\"Longitude\"])<=122.348) & (abs(seattle[\"Longitude\"])>=122.244) & (seattle[\"Latitude\"]>=47.6445) & (seattle[\"Latitude\"]<=47.6568) & (seattle[\"CouncilDistrictCode\"]==4)].tolist()\n",
    "c4_coastal2 = seattle.index[(abs(seattle[\"Longitude\"])<=122.275) & (seattle[\"Latitude\"]>=47.6481) & (seattle[\"Latitude\"]<=47.706)].tolist()\n",
    "# Green Areas\n",
    "c4_green1 = seattle.index[(abs(seattle[\"Longitude\"])<=122.3143) & (abs(seattle[\"Longitude\"])>=122.30) & (seattle[\"Latitude\"]>=47.668) & (seattle[\"Latitude\"]<=47.674)].tolist()\n",
    "c4_green2 = seattle.index[(abs(seattle[\"Longitude\"])<=122.28) & (abs(seattle[\"Longitude\"])>=122.265) & (seattle[\"Latitude\"]>=47.683) & (seattle[\"Latitude\"]<=47.691)].tolist()\n",
    "c4_green3 = seattle.index[(abs(seattle[\"Longitude\"])<=122.32) & (abs(seattle[\"Longitude\"])>=122.31) & (seattle[\"Latitude\"]>=47.68) & (seattle[\"Latitude\"]<=47.70)].tolist()\n",
    "# Coastal and Green Areas\n",
    "c4_coastal_green1 = seattle.index[(abs(seattle[\"Longitude\"])<=122.355) & (abs(seattle[\"Longitude\"])>=122.325) & (seattle[\"Latitude\"]>=47.665) & (seattle[\"Latitude\"]<=47.686)].tolist()\n",
    "c4_coastal_green2 = seattle.index[(abs(seattle[\"Longitude\"])<=122.263) & (abs(seattle[\"Longitude\"])>=122.245) & (seattle[\"Latitude\"]>=47.673) & (seattle[\"Latitude\"]<=47.686)].tolist()"
   ]
  },
  {
   "cell_type": "code",
   "execution_count": 37,
   "id": "5b68f429",
   "metadata": {},
   "outputs": [],
   "source": [
    "# COUNCIL 5\n",
    "# Coastal Areas\n",
    "c5_coastal1 = seattle.index[(abs(seattle[\"Longitude\"])<=122.282) & (seattle[\"Latitude\"]>=47.682)].tolist()\n",
    "c5_coastal2 = seattle.index[(abs(seattle[\"Longitude\"])>=122.374) & (seattle[\"Latitude\"]>=47.682)].tolist()\n",
    "# Green Areas\n",
    "c5_green1 = seattle.index[(abs(seattle[\"Longitude\"])<=122.324) & (abs(seattle[\"Longitude\"])>=122.312) & (seattle[\"Latitude\"]>=47.723) & (seattle[\"Latitude\"]<=47.735)].tolist()\n",
    "c5_green2 = seattle.index[(abs(seattle[\"Longitude\"])<=122.34) & (abs(seattle[\"Longitude\"])>=122.33) & (seattle[\"Latitude\"]>=47.72) & (seattle[\"Latitude\"]<=47.726)].tolist()\n",
    "c5_green3 = seattle.index[(abs(seattle[\"Longitude\"])<=122.35) & (abs(seattle[\"Longitude\"])>=122.33) & (seattle[\"Latitude\"]>=47.708) & (seattle[\"Latitude\"]<=47.72)].tolist()\n",
    "c5_green4 = seattle.index[(abs(seattle[\"Longitude\"])<=122.381) & (abs(seattle[\"Longitude\"])>=122.376) & (seattle[\"Latitude\"]>=47.69) & (seattle[\"Latitude\"]<=47.70)].tolist()\n",
    "c5_green5 = seattle.index[(abs(seattle[\"Longitude\"])<=122.30) & (abs(seattle[\"Longitude\"])>=122.29) & (seattle[\"Latitude\"]>=47.70) & (seattle[\"Latitude\"]<=47.71)].tolist()\n",
    "# Coastal and Green Areas\n",
    "c5_coastal_green1 = seattle.index[(abs(seattle[\"Longitude\"])<=122.356) & (abs(seattle[\"Longitude\"])>=122.348) & (seattle[\"Latitude\"]>=47.723) & (seattle[\"Latitude\"]<=47.73)].tolist()\n",
    "c5_coastal_green2 = seattle.index[(abs(seattle[\"Longitude\"])<=122.382) & (abs(seattle[\"Longitude\"])>=122.36) & (seattle[\"Latitude\"]>=47.7) & (seattle[\"Latitude\"]<=47.72)].tolist()"
   ]
  },
  {
   "cell_type": "code",
   "execution_count": 38,
   "id": "c65c5dda",
   "metadata": {},
   "outputs": [],
   "source": [
    "# COUNCIL 6\n",
    "# Coastal Areas\n",
    "c6_coastal1 = seattle.index[(abs(seattle[\"Longitude\"])>=122.397) & (seattle[\"Latitude\"]>=47.667) & (seattle[\"Latitude\"]<=47.705)].tolist()\n",
    "c6_coastal2 = seattle.index[(abs(seattle[\"Longitude\"])<=122.41) & (abs(seattle[\"Longitude\"])>=122.33) & (seattle[\"Latitude\"]>=47.644) & (seattle[\"Latitude\"]<=47.672)].tolist()\n",
    "# Green Areas\n",
    "c6_green1 = seattle.index[(abs(seattle[\"Longitude\"])<=122.355) & (abs(seattle[\"Longitude\"])>=122.34) & (seattle[\"Latitude\"]>=47.663) & (seattle[\"Latitude\"]<=47.672)].tolist()\n",
    "c6_green2 = seattle.index[(abs(seattle[\"Longitude\"])<=122.382) & (abs(seattle[\"Longitude\"])>=122.376) & (seattle[\"Latitude\"]>=47.694) & (seattle[\"Latitude\"]<=47.698)].tolist()\n",
    "c6_green3 = seattle.index[(abs(seattle[\"Longitude\"])<=122.385) & (abs(seattle[\"Longitude\"])>=122.381) & (seattle[\"Latitude\"]>=47.683) & (seattle[\"Latitude\"]<=47.69)].tolist()\n",
    "c6_green4 = seattle.index[(abs(seattle[\"Longitude\"])<=122.385) & (abs(seattle[\"Longitude\"])>=122.38) & (seattle[\"Latitude\"]>=47.676) & (seattle[\"Latitude\"]<=47.68)].tolist()\n",
    "c6_green5 = seattle.index[(abs(seattle[\"Longitude\"])<=122.372) & (abs(seattle[\"Longitude\"])>=122.366) & (seattle[\"Latitude\"]>=47.664) & (seattle[\"Latitude\"]<=47.669)].tolist()\n",
    "# Coastal and Green Areas\n",
    "c6_coastal_green1 = seattle.index[(abs(seattle[\"Longitude\"])<=122.339) & (abs(seattle[\"Longitude\"])>=122.331) & (seattle[\"Latitude\"]>=47.643) & (seattle[\"Latitude\"]<=47.648)].tolist()\n",
    "c6_coastal_green2 = seattle.index[(abs(seattle[\"Longitude\"])<=122.348) & (abs(seattle[\"Longitude\"])>=122.324) & (seattle[\"Latitude\"]>=47.67) & (seattle[\"Latitude\"]<=47.686)].tolist()\n",
    "c6_coastal_green3 = seattle.index[(abs(seattle[\"Longitude\"])<=122.339) & (abs(seattle[\"Longitude\"])>=122.331) & (seattle[\"Latitude\"]>=47.643) & (seattle[\"Latitude\"]<=47.648)].tolist()"
   ]
  },
  {
   "cell_type": "code",
   "execution_count": 39,
   "id": "bed0dfc0",
   "metadata": {},
   "outputs": [],
   "source": [
    "# COUNCIL 7\n",
    "# Coastal Areas\n",
    "c7_coastal1 = seattle.index[(abs(seattle[\"Longitude\"])<=122.438) & (abs(seattle[\"Longitude\"])>=122.341) & (seattle[\"Latitude\"]>=47.643) & (seattle[\"Latitude\"]<=47.673)].tolist()\n",
    "c7_coastal2 = seattle.index[(abs(seattle[\"Longitude\"])<=122.35) & (seattle[\"Latitude\"]>=47.6245) & (seattle[\"Latitude\"]<=47.646)].tolist()\n",
    "c7_coastal3 = seattle.index[(abs(seattle[\"Longitude\"])<=122.42) & (abs(seattle[\"Longitude\"])>=122.37) & (seattle[\"Latitude\"]>=47.624) & (seattle[\"Latitude\"]<=47.64)].tolist()\n",
    "c7_coastal4 = seattle.index[(abs(seattle[\"Longitude\"])<=122.358) & (abs(seattle[\"Longitude\"])>=122.338) & (seattle[\"Latitude\"]>=47.558) & (seattle[\"Latitude\"]<=47.618)].tolist()\n",
    "c7_coastal5 = seattle.index[(abs(seattle[\"Longitude\"])<=122.384) & (abs(seattle[\"Longitude\"])>=122.354) & (seattle[\"Latitude\"]>=47.61) & (seattle[\"Latitude\"]<=47.64)].tolist()\n",
    "# Green Areas\n",
    "c7_green1 = seattle.index[(abs(seattle[\"Longitude\"])<=122.381) & (abs(seattle[\"Longitude\"])>=122.375) & (seattle[\"Latitude\"]>=47.64) & (seattle[\"Latitude\"]<=47.649)].tolist()\n",
    "c7_green2 = seattle.index[(abs(seattle[\"Longitude\"])<=122.393) & (abs(seattle[\"Longitude\"])>=122.387) & (seattle[\"Latitude\"]>=47.653) & (seattle[\"Latitude\"]<=47.657)].tolist()\n",
    "c7_green3 = seattle.index[(abs(seattle[\"Longitude\"])<=122.394) & (abs(seattle[\"Longitude\"])>=122.388) & (seattle[\"Latitude\"]>=47.65) & (seattle[\"Latitude\"]<=47.653)].tolist()\n",
    "c7_green4 = seattle.index[(abs(seattle[\"Longitude\"])<=122.402) & (abs(seattle[\"Longitude\"])>=122.398) & (seattle[\"Latitude\"]>=47.64) & (seattle[\"Latitude\"]<=47.647)].tolist()\n",
    "c7_green5 = seattle.index[(abs(seattle[\"Longitude\"])<=122.381) & (abs(seattle[\"Longitude\"])>=122.375) & (seattle[\"Latitude\"]>=47.639) & (seattle[\"Latitude\"]<=47.649)].tolist()\n",
    "c7_green6 = seattle.index[(abs(seattle[\"Longitude\"])<=122.369) & (abs(seattle[\"Longitude\"])>=122.357) & (seattle[\"Latitude\"]>=47.641) & (seattle[\"Latitude\"]<=47.647)].tolist()\n",
    "c7_green7 = seattle.index[(abs(seattle[\"Longitude\"])<=122.348) & (abs(seattle[\"Longitude\"])>=122.343) & (seattle[\"Latitude\"]>=47.632) & (seattle[\"Latitude\"]<=47.638)].tolist()\n",
    "c7_green8 = seattle.index[(abs(seattle[\"Longitude\"])<=122.377) & (abs(seattle[\"Longitude\"])>=122.364) & (seattle[\"Latitude\"]>=47.625) & (seattle[\"Latitude\"]<=47.637)].tolist()\n",
    "c7_green9 = seattle.index[(abs(seattle[\"Longitude\"])<=122.388) & (abs(seattle[\"Longitude\"])>=122.384) & (seattle[\"Latitude\"]>=47.641) & (seattle[\"Latitude\"]<=47.645)].tolist()\n",
    "# Coastal and Green Areas\n",
    "c7_coastal_green1 = seattle.index[(abs(seattle[\"Longitude\"])<=122.443) & (abs(seattle[\"Longitude\"])>=122.40) & (seattle[\"Latitude\"]>=47.652) & (seattle[\"Latitude\"]<=47.672)].tolist()\n",
    "c7_coastal_green2 = seattle.index[(abs(seattle[\"Longitude\"])<=122.341) & (abs(seattle[\"Longitude\"])>=122.333) & (seattle[\"Latitude\"]>=47.625) & (seattle[\"Latitude\"]<=47.629)].tolist()\n",
    "c7_coastal_green3 = seattle.index[(abs(seattle[\"Longitude\"])<=122.403) & (abs(seattle[\"Longitude\"])>=122.396) & (seattle[\"Latitude\"]>=47.663) & (seattle[\"Latitude\"]<=47.667)].tolist()\n",
    "c7_coastal_green4 = seattle.index[(abs(seattle[\"Longitude\"])<=122.364) & (abs(seattle[\"Longitude\"])>=122.35) & (seattle[\"Latitude\"]>=47.613) & (seattle[\"Latitude\"]<=47.617)].tolist()\n"
   ]
  },
  {
   "cell_type": "code",
   "execution_count": 40,
   "id": "f844cac9",
   "metadata": {},
   "outputs": [],
   "source": [
    "# COASTAL AREAS\n",
    "coastals = c1_coastal1 + c1_coastal2 + c2_coastal1 + c2_coastal2 + c3_coastal1 + c3_coastal2 + c3_coastal3 + c4_coastal1 + c4_coastal2 + c5_coastal1 + c5_coastal2 + c6_coastal1 + c6_coastal2 + c7_coastal1 + c7_coastal2 + c7_coastal3 + c7_coastal4 + c7_coastal5\n",
    "coastal_areas = set(coastals)\n",
    "greens = c1_green1 + c1_green2 + c1_green3 + c1_green4 + c1_green5 + c1_green6 + c1_green7 + c2_green1 + c2_green2 + c2_green3 + c2_green4 + c2_green5 + c2_green6 + c2_green7 + c3_green1 + c3_green2 + c3_green3 + c3_green4 + c4_green1 + c4_green2 + c4_green3 + c5_green1 + c5_green2 + c5_green3 + c5_green4 + c5_green5 + c6_green1 + c6_green2 + c6_green3 + c6_green4 + c6_green5 + c7_green1 + c7_green2 + c7_green3 + c7_green4 + c7_green5 + c7_green6 + c7_green7 + c7_green8 + c7_green9                           \n",
    "green_areas = set(greens)\n",
    "mixed = c1_coastal_green1 + c2_coastal_green1 + c3_coastal_green1 + c3_coastal_green2 + c4_coastal_green1 + c4_coastal_green2 + c5_coastal_green1 + c5_coastal_green2 + c6_coastal_green1 + c6_coastal_green2 + c6_coastal_green3 + c7_coastal_green1 + c7_coastal_green2 + c7_coastal_green3 + c7_coastal_green4\n",
    "coastal_green = set(mixed)"
   ]
  },
  {
   "cell_type": "code",
   "execution_count": 41,
   "id": "5a7c6baa",
   "metadata": {},
   "outputs": [
    {
     "name": "stdout",
     "output_type": "stream",
     "text": [
      "Coastal Areas: 793\n",
      "Green Areas: 131\n",
      "Coastal and Green Areas: 72\n"
     ]
    }
   ],
   "source": [
    "print(\"Coastal Areas:\", len(coastal_areas))\n",
    "print(\"Green Areas:\", len(green_areas))\n",
    "print(\"Coastal and Green Areas:\", len(coastal_green))"
   ]
  },
  {
   "cell_type": "code",
   "execution_count": 42,
   "id": "caa8e4bd",
   "metadata": {},
   "outputs": [],
   "source": [
    "for i in coastal_green:\n",
    "    \n",
    "    if i in green_areas:\n",
    "        green_areas.remove(i)\n",
    "        \n",
    "    elif i in coastal_areas:\n",
    "        coastal_areas.remove(i)\n",
    "        \n",
    "for j in green_areas:\n",
    "    \n",
    "    if j in coastal_areas:\n",
    "        coastal_areas.remove(j)"
   ]
  },
  {
   "cell_type": "code",
   "execution_count": 43,
   "id": "5108ec37",
   "metadata": {},
   "outputs": [
    {
     "name": "stdout",
     "output_type": "stream",
     "text": [
      "Coastal Areas: 679\n",
      "Green Areas: 129\n",
      "Coastal and Green Areas: 72\n"
     ]
    }
   ],
   "source": [
    "print(\"Coastal Areas:\", len(coastal_areas))\n",
    "print(\"Green Areas:\", len(green_areas))\n",
    "print(\"Coastal and Green Areas:\", len(coastal_green))"
   ]
  },
  {
   "cell_type": "markdown",
   "id": "3f1735d3",
   "metadata": {},
   "source": [
    "Assing landmark labels to the instances. Three classes: (1) Terrain, (2) Green Area, (3) Coastal Area."
   ]
  },
  {
   "cell_type": "code",
   "execution_count": 44,
   "id": "570a95f2",
   "metadata": {},
   "outputs": [],
   "source": [
    "for i in range(seattle.shape[0]):\n",
    "    \n",
    "    if i in coastal_green:\n",
    "        seattle.loc[i, \"Landmark\"] = \"Coastal and Green\"\n",
    "        \n",
    "    elif i in green_areas:\n",
    "        seattle.loc[i, \"Landmark\"] = \"Green\"\n",
    "        \n",
    "    elif i in coastal_areas:\n",
    "        seattle.loc[i, \"Landmark\"] = \"Coastal\"\n",
    "        \n",
    "    else:\n",
    "        seattle.loc[i, \"Landmark\"] = \"Terrain\""
   ]
  },
  {
   "cell_type": "code",
   "execution_count": 45,
   "id": "8972cdcd",
   "metadata": {},
   "outputs": [
    {
     "data": {
      "text/plain": [
       "Terrain              943\n",
       "Coastal              677\n",
       "Green                129\n",
       "Coastal and Green     72\n",
       "Name: Landmark, dtype: int64"
      ]
     },
     "execution_count": 45,
     "metadata": {},
     "output_type": "execute_result"
    }
   ],
   "source": [
    "seattle[\"Landmark\"].value_counts()"
   ]
  },
  {
   "cell_type": "code",
   "execution_count": 46,
   "id": "0a24fa42",
   "metadata": {},
   "outputs": [
    {
     "name": "stdout",
     "output_type": "stream",
     "text": [
      "<class 'pandas.core.frame.DataFrame'>\n",
      "RangeIndex: 1821 entries, 0 to 1820\n",
      "Data columns (total 12 columns):\n",
      " #   Column                    Non-Null Count  Dtype  \n",
      "---  ------                    --------------  -----  \n",
      " 0   BuildingType              1821 non-null   object \n",
      " 1   Neighborhood              1821 non-null   object \n",
      " 2   CouncilDistrictCode       1821 non-null   float64\n",
      " 3   Latitude                  1821 non-null   float64\n",
      " 4   Longitude                 1821 non-null   float64\n",
      " 5   YearBuilt                 1821 non-null   int64  \n",
      " 6   NumberofFloors            1821 non-null   int64  \n",
      " 7   PropertyGFABuilding(s)    1821 non-null   int64  \n",
      " 8   Total Consumption (kbtu)  1821 non-null   float64\n",
      " 9   Total EUI (kbtu/sf)       1821 non-null   float64\n",
      " 10  Energy Use                1821 non-null   object \n",
      " 11  Landmark                  1821 non-null   object \n",
      "dtypes: float64(5), int64(3), object(4)\n",
      "memory usage: 170.8+ KB\n"
     ]
    }
   ],
   "source": [
    "seattle.info()"
   ]
  },
  {
   "cell_type": "code",
   "execution_count": 47,
   "id": "ff6bedbf",
   "metadata": {},
   "outputs": [
    {
     "data": {
      "text/plain": [
       "Landmark\n",
       "Coastal              2.655979e+06\n",
       "Coastal and Green    3.007086e+06\n",
       "Green                1.407130e+06\n",
       "Terrain              2.470037e+06\n",
       "Name: Total Consumption (kbtu), dtype: float64"
      ]
     },
     "execution_count": 47,
     "metadata": {},
     "output_type": "execute_result"
    }
   ],
   "source": [
    "seattle.groupby(by=\"Landmark\")[\"Total Consumption (kbtu)\"].mean()"
   ]
  },
  {
   "cell_type": "code",
   "execution_count": 48,
   "id": "13583a6b",
   "metadata": {},
   "outputs": [
    {
     "data": {
      "image/png": "[encoded data removed]",
      "text/plain": [
       "<Figure size 576x432 with 1 Axes>"
      ]
     },
     "metadata": {
      "needs_background": "light"
     },
     "output_type": "display_data"
    }
   ],
   "source": [
    "group = seattle.groupby(by=\"Landmark\")[\"Total Consumption (kbtu)\"].mean()\n",
    "\n",
    "plt.figure(figsize=(8, 6))\n",
    "plt.bar(x=group.index.tolist(), height=group.values)\n",
    "plt.xticks(rotation=\"horizontal\")\n",
    "plt.xlabel(\"Landmark\")\n",
    "plt.ylabel(\"Average Energy Consumption (kBtu)\")\n",
    "plt.show()"
   ]
  },
  {
   "cell_type": "markdown",
   "id": "ef286530",
   "metadata": {},
   "source": [
    "Reduce the cardinality. Use only three category for the landmark labels. For this, transform the \"Coastal and Green\" zones into \"Coastal\" zones:"
   ]
  },
  {
   "cell_type": "code",
   "execution_count": 49,
   "id": "8dcfefa9",
   "metadata": {},
   "outputs": [
    {
     "data": {
      "text/plain": [
       "Terrain              943\n",
       "Coastal              677\n",
       "Green                129\n",
       "Coastal and Green     72\n",
       "Name: Landmark, dtype: int64"
      ]
     },
     "execution_count": 49,
     "metadata": {},
     "output_type": "execute_result"
    }
   ],
   "source": [
    "seattle[\"Landmark\"].value_counts()"
   ]
  },
  {
   "cell_type": "code",
   "execution_count": 50,
   "id": "b19d318b",
   "metadata": {},
   "outputs": [
    {
     "data": {
      "text/plain": [
       "Terrain    943\n",
       "Coastal    749\n",
       "Green      129\n",
       "Name: Landmark, dtype: int64"
      ]
     },
     "execution_count": 50,
     "metadata": {},
     "output_type": "execute_result"
    }
   ],
   "source": [
    "for i in range(seattle.shape[0]):\n",
    "    \n",
    "    if seattle.loc[i, \"Landmark\"] == \"Coastal and Green\":\n",
    "        seattle.loc[i, \"Landmark\"] = \"Coastal\"\n",
    "        \n",
    "seattle[\"Landmark\"].value_counts()"
   ]
  },
  {
   "cell_type": "code",
   "execution_count": 51,
   "id": "d00cf01d",
   "metadata": {},
   "outputs": [
    {
     "data": {
      "image/png": "[encoded data removed]",
      "text/plain": [
       "<Figure size 720x432 with 1 Axes>"
      ]
     },
     "metadata": {
      "needs_background": "light"
     },
     "output_type": "display_data"
    }
   ],
   "source": [
    "group = seattle.groupby(by=\"Landmark\")[\"Total Consumption (kbtu)\"].mean()\n",
    "\n",
    "plt.figure(figsize=(10, 6))\n",
    "plt.bar(x=group.index.tolist(), height=group.values)\n",
    "plt.xticks(rotation=\"horizontal\")\n",
    "plt.xlabel(\"Landmark\")\n",
    "plt.ylabel(\"Average Energy Consumption (kBtu)\")\n",
    "plt.show()"
   ]
  },
  {
   "cell_type": "markdown",
   "id": "129d4e7a",
   "metadata": {},
   "source": [
    "Save the **seattle** as a csv file:"
   ]
  },
  {
   "cell_type": "code",
   "execution_count": 52,
   "id": "fb69b66b",
   "metadata": {},
   "outputs": [],
   "source": [
    "seattle.to_csv(\"seattle.csv\", index=False)"
   ]
  },
  {
   "cell_type": "code",
   "execution_count": 53,
   "id": "9348bd99",
   "metadata": {},
   "outputs": [
    {
     "name": "stdout",
     "output_type": "stream",
     "text": [
      "<class 'pandas.core.frame.DataFrame'>\n",
      "RangeIndex: 1821 entries, 0 to 1820\n",
      "Data columns (total 12 columns):\n",
      " #   Column                    Non-Null Count  Dtype  \n",
      "---  ------                    --------------  -----  \n",
      " 0   BuildingType              1821 non-null   object \n",
      " 1   Neighborhood              1821 non-null   object \n",
      " 2   CouncilDistrictCode       1821 non-null   float64\n",
      " 3   Latitude                  1821 non-null   float64\n",
      " 4   Longitude                 1821 non-null   float64\n",
      " 5   YearBuilt                 1821 non-null   int64  \n",
      " 6   NumberofFloors            1821 non-null   int64  \n",
      " 7   PropertyGFABuilding(s)    1821 non-null   int64  \n",
      " 8   Total Consumption (kbtu)  1821 non-null   float64\n",
      " 9   Total EUI (kbtu/sf)       1821 non-null   float64\n",
      " 10  Energy Use                1821 non-null   object \n",
      " 11  Landmark                  1821 non-null   object \n",
      "dtypes: float64(5), int64(3), object(4)\n",
      "memory usage: 170.8+ KB\n"
     ]
    }
   ],
   "source": [
    "seattle.info()"
   ]
  },
  {
   "cell_type": "markdown",
   "id": "ead6e692",
   "metadata": {},
   "source": [
    "## 2.2) Weather Data"
   ]
  },
  {
   "cell_type": "markdown",
   "id": "062bc7f9",
   "metadata": {},
   "source": [
    "Link: https://www.windfinder.com/windstatistics/broadview_seattle"
   ]
  },
  {
   "cell_type": "code",
   "execution_count": 54,
   "id": "e42aea0e",
   "metadata": {},
   "outputs": [],
   "source": [
    "mydf = pd.read_csv(\"seattle.csv\")"
   ]
  },
  {
   "cell_type": "code",
   "execution_count": 55,
   "id": "f4d61b5d",
   "metadata": {},
   "outputs": [],
   "source": [
    "seattle = mydf.copy()"
   ]
  },
  {
   "cell_type": "code",
   "execution_count": 56,
   "id": "d70d784a",
   "metadata": {},
   "outputs": [
    {
     "name": "stdout",
     "output_type": "stream",
     "text": [
      "<class 'pandas.core.frame.DataFrame'>\n",
      "RangeIndex: 1821 entries, 0 to 1820\n",
      "Data columns (total 12 columns):\n",
      " #   Column                    Non-Null Count  Dtype  \n",
      "---  ------                    --------------  -----  \n",
      " 0   BuildingType              1821 non-null   object \n",
      " 1   Neighborhood              1821 non-null   object \n",
      " 2   CouncilDistrictCode       1821 non-null   float64\n",
      " 3   Latitude                  1821 non-null   float64\n",
      " 4   Longitude                 1821 non-null   float64\n",
      " 5   YearBuilt                 1821 non-null   int64  \n",
      " 6   NumberofFloors            1821 non-null   int64  \n",
      " 7   PropertyGFABuilding(s)    1821 non-null   int64  \n",
      " 8   Total Consumption (kbtu)  1821 non-null   float64\n",
      " 9   Total EUI (kbtu/sf)       1821 non-null   float64\n",
      " 10  Energy Use                1821 non-null   object \n",
      " 11  Landmark                  1821 non-null   object \n",
      "dtypes: float64(5), int64(3), object(4)\n",
      "memory usage: 170.8+ KB\n"
     ]
    }
   ],
   "source": [
    "seattle.info()"
   ]
  },
  {
   "cell_type": "code",
   "execution_count": 57,
   "id": "e5dfe134",
   "metadata": {},
   "outputs": [
    {
     "data": {
      "text/plain": [
       "EAST                      357\n",
       "MAGNOLIA / QUEEN ANNE     279\n",
       "DOWNTOWN                  229\n",
       "NORTHEAST                 169\n",
       "NORTHWEST                 137\n",
       "SOUTHWEST                 131\n",
       "LAKE UNION                119\n",
       "NORTH                     118\n",
       "CENTRAL                    87\n",
       "BALLARD                    75\n",
       "SOUTHEAST                  50\n",
       "DELRIDGE NEIGHBORHOODS     39\n",
       "GREATER DUWAMISH           31\n",
       "Name: Neighborhood, dtype: int64"
      ]
     },
     "execution_count": 57,
     "metadata": {},
     "output_type": "execute_result"
    }
   ],
   "source": [
    "seattle[\"Neighborhood\"].value_counts()"
   ]
  },
  {
   "cell_type": "markdown",
   "id": "c1982f5a",
   "metadata": {},
   "source": [
    "Try to determine the annual weather recordings, such as wind speed and air temperature, using the weather stations near to the specific neighborhoods:"
   ]
  },
  {
   "cell_type": "code",
   "execution_count": 58,
   "id": "dcf038f7",
   "metadata": {},
   "outputs": [],
   "source": [
    "ei = seattle.index[seattle[\"Neighborhood\"]==\"EAST\"].tolist()\n",
    "magnolia_index = seattle.index[seattle[\"Neighborhood\"]==\"MAGNOLIA / QUEEN ANNE\"].tolist()\n",
    "downtown_index = east_index = seattle.index[(seattle[\"Neighborhood\"]==\"DOWNTOWN\")].tolist()\n",
    "ne_index = seattle.index[(seattle[\"Neighborhood\"]==\"NORTHEAST\")].tolist()\n",
    "nw_index = seattle.index[(seattle[\"Neighborhood\"]==\"NORTHWEST\")].tolist()\n",
    "sw_index = seattle.index[(seattle[\"Neighborhood\"]==\"SOUTHWEST\")].tolist()\n",
    "lake_index = seattle.index[(seattle[\"Neighborhood\"]==\"LAKE UNION\")].tolist()\n",
    "north_index = seattle.index[(seattle[\"Neighborhood\"]==\"NORTH\")].tolist()\n",
    "central_index = seattle.index[(seattle[\"Neighborhood\"]==\"CENTRAL\")].tolist()\n",
    "ballard_index = seattle.index[(seattle[\"Neighborhood\"]==\"BALLARD\")].tolist()\n",
    "se_index = seattle.index[(seattle[\"Neighborhood\"]==\"SOUTHEAST\")].tolist()\n",
    "delridge_index = seattle.index[(seattle[\"Neighborhood\"]==\"DELRIDGE NEIGHBORHOODS\")].tolist()\n",
    "duwamish_index = seattle.index[(seattle[\"Neighborhood\"]==\"GREATER DUWAMISH\")].tolist()"
   ]
  },
  {
   "cell_type": "code",
   "execution_count": 59,
   "id": "542bbee1",
   "metadata": {},
   "outputs": [],
   "source": [
    "for i in range(seattle.shape[0]):\n",
    "    \n",
    "    if i in ei:\n",
    "        seattle.loc[i, \"Wind Speed (kts)\"] = 3\n",
    "        seattle.loc[i, \"Daytime Temperature (C)\"] = 13\n",
    "        seattle.loc[i, \"Nighttime Temperature (C)\"] = 11\n",
    "        \n",
    "    elif i in magnolia_index:\n",
    "        seattle.loc[i, \"Wind Speed (kts)\"] = 3\n",
    "        seattle.loc[i, \"Daytime Temperature (C)\"] = 12\n",
    "        seattle.loc[i, \"Nighttime Temperature (C)\"] = 10\n",
    "        \n",
    "    elif i in downtown_index:\n",
    "        seattle.loc[i, \"Wind Speed (kts)\"] = 5\n",
    "        seattle.loc[i, \"Daytime Temperature (C)\"] = 12\n",
    "        seattle.loc[i, \"Nighttime Temperature (C)\"] = 11\n",
    "        \n",
    "    elif i in ne_index:\n",
    "        seattle.loc[i, \"Wind Speed (kts)\"] = 3.7\n",
    "        seattle.loc[i, \"Daytime Temperature (C)\"] = 12.3\n",
    "        seattle.loc[i, \"Nighttime Temperature (C)\"] = 10.7\n",
    "        \n",
    "    elif i in nw_index:\n",
    "        seattle.loc[i, \"Wind Speed (kts)\"] = 2\n",
    "        seattle.loc[i, \"Daytime Temperature (C)\"] = 12\n",
    "        seattle.loc[i, \"Nighttime Temperature (C)\"] = 10\n",
    "        \n",
    "    elif i in sw_index:\n",
    "        if seattle.loc[i, \"Landmark\"] == \"Coastal\":\n",
    "            seattle.loc[i, \"Wind Speed (kts)\"] = 6\n",
    "            seattle.loc[i, \"Daytime Temperature (C)\"] = 12\n",
    "            seattle.loc[i, \"Nighttime Temperature (C)\"] = 11\n",
    "        else:\n",
    "            seattle.loc[i, \"Wind Speed (kts)\"] = 3.7\n",
    "            seattle.loc[i, \"Daytime Temperature (C)\"] = 12.7\n",
    "            seattle.loc[i, \"Nighttime Temperature (C)\"] = 10\n",
    "            \n",
    "    elif i in lake_index:\n",
    "        seattle.loc[i, \"Wind Speed (kts)\"] = 3\n",
    "        seattle.loc[i, \"Daytime Temperature (C)\"] = 14\n",
    "        seattle.loc[i, \"Nighttime Temperature (C)\"] = 11\n",
    "        \n",
    "    \n",
    "    elif i in north_index:\n",
    "        seattle.loc[i, \"Wind Speed (kts)\"] = 5\n",
    "        seattle.loc[i, \"Daytime Temperature (C)\"] = 13\n",
    "        seattle.loc[i, \"Nighttime Temperature (C)\"] = 11\n",
    "        \n",
    "    elif i in central_index:\n",
    "        seattle.loc[i, \"Wind Speed (kts)\"] = 4\n",
    "        seattle.loc[i, \"Daytime Temperature (C)\"] = 12.5\n",
    "        seattle.loc[i, \"Nighttime Temperature (C)\"] = 11\n",
    "        \n",
    "    elif i in ballard_index:\n",
    "        seattle.loc[i, \"Wind Speed (kts)\"] = 3\n",
    "        seattle.loc[i, \"Daytime Temperature (C)\"] = 13\n",
    "        seattle.loc[i, \"Nighttime Temperature (C)\"] = 10\n",
    "        \n",
    "    elif i in se_index:\n",
    "        seattle.loc[i, \"Wind Speed (kts)\"] = 1\n",
    "        seattle.loc[i, \"Daytime Temperature (C)\"] = 14\n",
    "        seattle.loc[i, \"Nighttime Temperature (C)\"] = 11\n",
    "        \n",
    "    elif i in delridge_index:\n",
    "        seattle.loc[i, \"Wind Speed (kts)\"] = 5\n",
    "        seattle.loc[i, \"Daytime Temperature (C)\"] = 13\n",
    "        seattle.loc[i, \"Nighttime Temperature (C)\"] = 10\n",
    "        \n",
    "    elif i in duwamish_index:\n",
    "        seattle.loc[i, \"Wind Speed (kts)\"] = 5\n",
    "        seattle.loc[i, \"Daytime Temperature (C)\"] = 13\n",
    "        seattle.loc[i, \"Nighttime Temperature (C)\"] = 10   \n",
    "        \n",
    "    else:\n",
    "        print(\"ERROR\", i)"
   ]
  },
  {
   "cell_type": "code",
   "execution_count": 60,
   "id": "6134b0ec",
   "metadata": {},
   "outputs": [
    {
     "name": "stdout",
     "output_type": "stream",
     "text": [
      "<class 'pandas.core.frame.DataFrame'>\n",
      "RangeIndex: 1821 entries, 0 to 1820\n",
      "Data columns (total 15 columns):\n",
      " #   Column                     Non-Null Count  Dtype  \n",
      "---  ------                     --------------  -----  \n",
      " 0   BuildingType               1821 non-null   object \n",
      " 1   Neighborhood               1821 non-null   object \n",
      " 2   CouncilDistrictCode        1821 non-null   float64\n",
      " 3   Latitude                   1821 non-null   float64\n",
      " 4   Longitude                  1821 non-null   float64\n",
      " 5   YearBuilt                  1821 non-null   int64  \n",
      " 6   NumberofFloors             1821 non-null   int64  \n",
      " 7   PropertyGFABuilding(s)     1821 non-null   int64  \n",
      " 8   Total Consumption (kbtu)   1821 non-null   float64\n",
      " 9   Total EUI (kbtu/sf)        1821 non-null   float64\n",
      " 10  Energy Use                 1821 non-null   object \n",
      " 11  Landmark                   1821 non-null   object \n",
      " 12  Wind Speed (kts)           1821 non-null   float64\n",
      " 13  Daytime Temperature (C)    1821 non-null   float64\n",
      " 14  Nighttime Temperature (C)  1821 non-null   float64\n",
      "dtypes: float64(8), int64(3), object(4)\n",
      "memory usage: 213.5+ KB\n"
     ]
    }
   ],
   "source": [
    "seattle.info()"
   ]
  },
  {
   "cell_type": "code",
   "execution_count": 61,
   "id": "d2d85e06",
   "metadata": {},
   "outputs": [],
   "source": [
    "seattle.to_csv(\"seattle.csv\", index=False)"
   ]
  },
  {
   "cell_type": "markdown",
   "id": "77c1ba88",
   "metadata": {},
   "source": [
    "## Creating Climate Classes"
   ]
  },
  {
   "cell_type": "code",
   "execution_count": 62,
   "id": "5962e5a9",
   "metadata": {},
   "outputs": [],
   "source": [
    "mydf = pd.read_csv(\"seattle.csv\")"
   ]
  },
  {
   "cell_type": "code",
   "execution_count": 63,
   "id": "750a3861",
   "metadata": {},
   "outputs": [
    {
     "name": "stdout",
     "output_type": "stream",
     "text": [
      "<class 'pandas.core.frame.DataFrame'>\n",
      "RangeIndex: 1821 entries, 0 to 1820\n",
      "Data columns (total 15 columns):\n",
      " #   Column                     Non-Null Count  Dtype  \n",
      "---  ------                     --------------  -----  \n",
      " 0   BuildingType               1821 non-null   object \n",
      " 1   Neighborhood               1821 non-null   object \n",
      " 2   CouncilDistrictCode        1821 non-null   float64\n",
      " 3   Latitude                   1821 non-null   float64\n",
      " 4   Longitude                  1821 non-null   float64\n",
      " 5   YearBuilt                  1821 non-null   int64  \n",
      " 6   NumberofFloors             1821 non-null   int64  \n",
      " 7   PropertyGFABuilding(s)     1821 non-null   int64  \n",
      " 8   Total Consumption (kbtu)   1821 non-null   float64\n",
      " 9   Total EUI (kbtu/sf)        1821 non-null   float64\n",
      " 10  Energy Use                 1821 non-null   object \n",
      " 11  Landmark                   1821 non-null   object \n",
      " 12  Wind Speed (kts)           1821 non-null   float64\n",
      " 13  Daytime Temperature (C)    1821 non-null   float64\n",
      " 14  Nighttime Temperature (C)  1821 non-null   float64\n",
      "dtypes: float64(8), int64(3), object(4)\n",
      "memory usage: 213.5+ KB\n"
     ]
    }
   ],
   "source": [
    "mydf.info()"
   ]
  },
  {
   "cell_type": "code",
   "execution_count": 64,
   "id": "45bb1a0b",
   "metadata": {},
   "outputs": [
    {
     "data": {
      "image/png": "[encoded data removed]",
      "text/plain": [
       "<Figure size 864x720 with 1 Axes>"
      ]
     },
     "metadata": {
      "needs_background": "light"
     },
     "output_type": "display_data"
    }
   ],
   "source": [
    "from sklearn.cluster import KMeans\n",
    "\n",
    "cluster_features = [\n",
    "    'Neighborhood',\n",
    "    'CouncilDistrictCode',\n",
    "    'Latitude',\n",
    "    'Longitude',\n",
    "    'Energy Use',\n",
    "    'Landmark',\n",
    "    'Wind Speed (kts)',\n",
    "    'Daytime Temperature (C)',\n",
    "    'Nighttime Temperature (C)',\n",
    "]\n",
    "\n",
    "cluster_df = mydf.loc[:, cluster_features]\n",
    "data = pd.get_dummies(cluster_df)\n",
    "data_train, data_test = train_test_split(\n",
    "    data, test_size=0.20,\n",
    "    stratify=cluster_df[\"Neighborhood\"],\n",
    "    shuffle=True, random_state=42,\n",
    ")\n",
    "\n",
    "sse = list()\n",
    "\n",
    "min_cluster = 2\n",
    "max_cluster = 11\n",
    "\n",
    "for k in range(min_cluster, max_cluster):\n",
    "    kmeans = KMeans(\n",
    "        n_clusters=k, \n",
    "        random_state=42,\n",
    "    )\n",
    "    kmeans.fit(data_train)\n",
    "    sse.append(kmeans.inertia_)\n",
    "    \n",
    "# Visualize results\n",
    "plt.figure(figsize=(12, 10))\n",
    "plt.plot(range(min_cluster, max_cluster), sse)\n",
    "plt.xlabel(\"Number of Cluster\")\n",
    "plt.ylabel(\"Sum of Squared Distances (SSE)\")\n",
    "plt.xticks(range(min_cluster, max_cluster))\n",
    "plt.title(\"Climate Type\")\n",
    "plt.show()"
   ]
  },
  {
   "cell_type": "code",
   "execution_count": 65,
   "id": "898415cd",
   "metadata": {},
   "outputs": [
    {
     "name": "stdout",
     "output_type": "stream",
     "text": [
      "Optimal cluster number: 4\n"
     ]
    }
   ],
   "source": [
    "from kneed import KneeLocator\n",
    "kl = KneeLocator(range(min_cluster, max_cluster), sse, curve=\"convex\", direction=\"decreasing\")\n",
    "best_cluster = kl.elbow\n",
    "print(\"Optimal cluster number:\", best_cluster)"
   ]
  },
  {
   "cell_type": "code",
   "execution_count": 66,
   "id": "21e3bcfb",
   "metadata": {},
   "outputs": [
    {
     "name": "stdout",
     "output_type": "stream",
     "text": [
      "[[  0 506]\n",
      " [  1 767]\n",
      " [  2 286]\n",
      " [  3 262]]\n"
     ]
    }
   ],
   "source": [
    "k_means = KMeans(\n",
    "    n_clusters=best_cluster,\n",
    "    random_state=42,\n",
    ")\n",
    "\n",
    "k_means.fit(data_train)\n",
    "labels = k_means.predict(data)\n",
    "\n",
    "unique, counts = np.unique(labels, return_counts=True)\n",
    "\n",
    "print(np.asarray((unique, counts)).T)"
   ]
  },
  {
   "cell_type": "code",
   "execution_count": 67,
   "id": "6101df9e",
   "metadata": {},
   "outputs": [],
   "source": [
    "mydf.loc[:, \"Climate Type\"] = labels"
   ]
  },
  {
   "cell_type": "code",
   "execution_count": 68,
   "id": "7cf7db05",
   "metadata": {},
   "outputs": [
    {
     "data": {
      "text/plain": [
       "CouncilDistrictCode          0.087786\n",
       "Latitude                    -0.076924\n",
       "Longitude                    0.029863\n",
       "YearBuilt                    0.173866\n",
       "NumberofFloors               0.707402\n",
       "PropertyGFABuilding(s)       0.884253\n",
       "Total Consumption (kbtu)     1.000000\n",
       "Total EUI (kbtu/sf)          0.371233\n",
       "Wind Speed (kts)             0.099616\n",
       "Daytime Temperature (C)     -0.032184\n",
       "Nighttime Temperature (C)    0.130781\n",
       "Climate Type                 0.180875\n",
       "Name: Total Consumption (kbtu), dtype: float64"
      ]
     },
     "execution_count": 68,
     "metadata": {},
     "output_type": "execute_result"
    }
   ],
   "source": [
    "mydf.corr()[\"Total Consumption (kbtu)\"]"
   ]
  },
  {
   "cell_type": "code",
   "execution_count": 69,
   "id": "b1d30f63",
   "metadata": {
    "scrolled": false
   },
   "outputs": [
    {
     "data": {
      "image/png": "[encoded data removed]",
      "text/plain": [
       "<Figure size 864x576 with 1 Axes>"
      ]
     },
     "metadata": {
      "needs_background": "light"
     },
     "output_type": "display_data"
    }
   ],
   "source": [
    "group = mydf.groupby(by=\"Climate Type\")[\"Total Consumption (kbtu)\"].mean()\n",
    "\n",
    "plt.figure(figsize=(12, 8))\n",
    "plt.bar(x=group.index.tolist(), height=group.values)\n",
    "plt.xticks(np.arange(0, 4), rotation=\"horizontal\")\n",
    "plt.xlabel(\"Climate Type\")\n",
    "plt.ylabel(\"Average Energy Consumption (kBtu)\")\n",
    "plt.show()"
   ]
  },
  {
   "cell_type": "code",
   "execution_count": 70,
   "id": "8ea9f39e",
   "metadata": {},
   "outputs": [
    {
     "name": "stdout",
     "output_type": "stream",
     "text": [
      "<class 'pandas.core.frame.DataFrame'>\n",
      "RangeIndex: 1821 entries, 0 to 1820\n",
      "Data columns (total 16 columns):\n",
      " #   Column                     Non-Null Count  Dtype  \n",
      "---  ------                     --------------  -----  \n",
      " 0   BuildingType               1821 non-null   object \n",
      " 1   Neighborhood               1821 non-null   object \n",
      " 2   CouncilDistrictCode        1821 non-null   float64\n",
      " 3   Latitude                   1821 non-null   float64\n",
      " 4   Longitude                  1821 non-null   float64\n",
      " 5   YearBuilt                  1821 non-null   int64  \n",
      " 6   NumberofFloors             1821 non-null   int64  \n",
      " 7   PropertyGFABuilding(s)     1821 non-null   int64  \n",
      " 8   Total Consumption (kbtu)   1821 non-null   float64\n",
      " 9   Total EUI (kbtu/sf)        1821 non-null   float64\n",
      " 10  Energy Use                 1821 non-null   object \n",
      " 11  Landmark                   1821 non-null   object \n",
      " 12  Wind Speed (kts)           1821 non-null   float64\n",
      " 13  Daytime Temperature (C)    1821 non-null   float64\n",
      " 14  Nighttime Temperature (C)  1821 non-null   float64\n",
      " 15  Climate Type               1821 non-null   int32  \n",
      "dtypes: float64(8), int32(1), int64(3), object(4)\n",
      "memory usage: 220.6+ KB\n"
     ]
    }
   ],
   "source": [
    "mydf.info()"
   ]
  },
  {
   "cell_type": "code",
   "execution_count": 71,
   "id": "6c4b0e2d",
   "metadata": {},
   "outputs": [],
   "source": [
    "mydf.to_csv(\"seattle.csv\", index=False)"
   ]
  },
  {
   "cell_type": "markdown",
   "id": "e44ddd31",
   "metadata": {},
   "source": [
    "# 3) Energy Efficiency Classes"
   ]
  },
  {
   "cell_type": "markdown",
   "id": "20f6f30a",
   "metadata": {},
   "source": [
    "To determine the energy efficiency classes, we will use the following features: **Energy Use, Earthquake Risk, Flood Risk, Water Bodies, Commercial, Industrial, and Public Utilities.** "
   ]
  },
  {
   "cell_type": "markdown",
   "id": "9949b02b",
   "metadata": {},
   "source": [
    "## 3.1) Earthquake Risk"
   ]
  },
  {
   "cell_type": "markdown",
   "id": "7f16d13c",
   "metadata": {},
   "source": [
    "Links: 1) https://www.soundseismic.com/earthquake-resources/hazard-maps"
   ]
  },
  {
   "cell_type": "code",
   "execution_count": 72,
   "id": "e76f9951",
   "metadata": {},
   "outputs": [],
   "source": [
    "mydf = pd.read_csv(\"seattle.csv\")"
   ]
  },
  {
   "cell_type": "code",
   "execution_count": 73,
   "id": "ed17c8e1",
   "metadata": {},
   "outputs": [],
   "source": [
    "seattle = mydf.copy()"
   ]
  },
  {
   "cell_type": "code",
   "execution_count": 74,
   "id": "fefd7220",
   "metadata": {},
   "outputs": [],
   "source": [
    "for i in range(seattle.shape[0]):\n",
    "    \n",
    "    if seattle.loc[i, \"Neighborhood\"] == \"DOWNTOWN\":\n",
    "        if seattle.loc[i, \"CouncilDistrictCode\"] == 2:\n",
    "            seattle.loc[i, \"Earthquake Risk\"] = \"High\"\n",
    "        else:\n",
    "            seattle.loc[i, \"Earthquake Risk\"] = \"Fair\"\n",
    "            \n",
    "    elif seattle.loc[i, \"Neighborhood\"] == \"EAST\":\n",
    "        seattle.loc[i, \"Earthquake Risk\"] = \"Fair\"\n",
    "            \n",
    "    elif seattle.loc[i, \"Neighborhood\"] == \"MAGNOLIA / QUEEN ANNE\":\n",
    "        seattle.loc[i, \"Earthquake Risk\"] = \"Moderate\"\n",
    "        \n",
    "    elif seattle.loc[i, \"Neighborhood\"] == \"GREATER DUWAMISH\":\n",
    "        seattle.loc[i, \"Earthquake Risk\"] = \"High\"\n",
    "        \n",
    "    elif seattle.loc[i, \"Neighborhood\"] == \"NORTHEAST\":\n",
    "        seattle.loc[i, \"Earthquake Risk\"] = \"Fair\"\n",
    "        \n",
    "    elif seattle.loc[i, \"Neighborhood\"] == \"LAKE UNION\":\n",
    "        if seattle.loc[i, \"CouncilDistrictCode\"] == 7:\n",
    "            seattle.loc[i, \"Earthquake Risk\"] = \"Moderate\"\n",
    "        else:\n",
    "            seattle.loc[i, \"Earthquake Risk\"] = \"Fair\"\n",
    "            \n",
    "    elif seattle.loc[i, \"Neighborhood\"] == \"NORTHWEST\":\n",
    "        if seattle.loc[i, \"CouncilDistrictCode\"] == 5:\n",
    "            seattle.loc[i, \"Earthquake Risk\"] = \"Lower\"\n",
    "        else:\n",
    "            seattle.loc[i, \"Earthquake Risk\"] = \"Fair\"\n",
    "            \n",
    "    elif seattle.loc[i, \"Neighborhood\"] == \"NORTH\":\n",
    "        seattle.loc[i, \"Earthquake Risk\"] = \"Lower\"\n",
    "        \n",
    "    elif seattle.loc[i, \"Neighborhood\"] == \"SOUTHWEST\":\n",
    "        seattle.loc[i, \"Earthquake Risk\"] = \"Low\"\n",
    "        \n",
    "    elif seattle.loc[i, \"Neighborhood\"] == \"BALLARD\":\n",
    "        if seattle.loc[i, \"Landmark\"] == \"Coastal\":\n",
    "            seattle.loc[i, \"Earthquake Risk\"] = \"Moderate\"\n",
    "        else:\n",
    "            seattle.loc[i, \"Earthquake Risk\"] = \"Fair\"\n",
    "            \n",
    "    elif seattle.loc[i, \"Neighborhood\"] == \"CENTRAL\":\n",
    "        seattle.loc[i, \"Earthquake Risk\"] = \"Fair\"\n",
    "        \n",
    "    elif seattle.loc[i, \"Neighborhood\"] == \"SOUTHEAST\":\n",
    "        seattle.loc[i, \"Earthquake Risk\"] = \"Low\"\n",
    "        \n",
    "    elif seattle.loc[i, \"Neighborhood\"] == \"DELRIDGE NEIGHBORHOODS\":\n",
    "        seattle.loc[i, \"Earthquake Risk\"] = \"Moderate\""
   ]
  },
  {
   "cell_type": "code",
   "execution_count": 75,
   "id": "bcafb36f",
   "metadata": {},
   "outputs": [
    {
     "data": {
      "text/plain": [
       "Fair        970\n",
       "Moderate    392\n",
       "Lower       189\n",
       "Low         181\n",
       "High         89\n",
       "Name: Earthquake Risk, dtype: int64"
      ]
     },
     "execution_count": 75,
     "metadata": {},
     "output_type": "execute_result"
    }
   ],
   "source": [
    "seattle[\"Earthquake Risk\"].value_counts()"
   ]
  },
  {
   "cell_type": "code",
   "execution_count": 76,
   "id": "018cc330",
   "metadata": {},
   "outputs": [
    {
     "data": {
      "image/png": "[encoded data removed]",
      "text/plain": [
       "<Figure size 432x288 with 1 Axes>"
      ]
     },
     "metadata": {
      "needs_background": "light"
     },
     "output_type": "display_data"
    }
   ],
   "source": [
    "group = seattle.groupby(by=\"Earthquake Risk\")[\"Total Consumption (kbtu)\"].mean()\n",
    "\n",
    "plt.figure(figsize=(6, 4))\n",
    "plt.bar(x=group.index.tolist(), height=group.values)\n",
    "plt.xticks(rotation=\"vertical\")\n",
    "plt.title(\"Earthquake Risk\".upper())\n",
    "plt.show()"
   ]
  },
  {
   "cell_type": "code",
   "execution_count": 77,
   "id": "0cee6c2e",
   "metadata": {},
   "outputs": [],
   "source": [
    "seattle.to_csv(\"seattle.csv\", index=False)"
   ]
  },
  {
   "cell_type": "markdown",
   "id": "d75f3879",
   "metadata": {},
   "source": [
    "## 3.2) Flood Risk"
   ]
  },
  {
   "cell_type": "markdown",
   "id": "4e24af6f",
   "metadata": {},
   "source": [
    "1) https://data-seattlecitygis.opendata.arcgis.com/datasets/SeattleCityGIS::flood-zones-eca/about\n",
    "2) nhttps://www.seattle.gov/emergency-management/hazards/floods"
   ]
  },
  {
   "cell_type": "code",
   "execution_count": 78,
   "id": "8eb58238",
   "metadata": {},
   "outputs": [],
   "source": [
    "mydf = pd.read_csv(\"seattle.csv\")"
   ]
  },
  {
   "cell_type": "code",
   "execution_count": 79,
   "id": "70062521",
   "metadata": {},
   "outputs": [
    {
     "name": "stdout",
     "output_type": "stream",
     "text": [
      "<class 'pandas.core.frame.DataFrame'>\n",
      "RangeIndex: 1821 entries, 0 to 1820\n",
      "Data columns (total 17 columns):\n",
      " #   Column                     Non-Null Count  Dtype  \n",
      "---  ------                     --------------  -----  \n",
      " 0   BuildingType               1821 non-null   object \n",
      " 1   Neighborhood               1821 non-null   object \n",
      " 2   CouncilDistrictCode        1821 non-null   float64\n",
      " 3   Latitude                   1821 non-null   float64\n",
      " 4   Longitude                  1821 non-null   float64\n",
      " 5   YearBuilt                  1821 non-null   int64  \n",
      " 6   NumberofFloors             1821 non-null   int64  \n",
      " 7   PropertyGFABuilding(s)     1821 non-null   int64  \n",
      " 8   Total Consumption (kbtu)   1821 non-null   float64\n",
      " 9   Total EUI (kbtu/sf)        1821 non-null   float64\n",
      " 10  Energy Use                 1821 non-null   object \n",
      " 11  Landmark                   1821 non-null   object \n",
      " 12  Wind Speed (kts)           1821 non-null   float64\n",
      " 13  Daytime Temperature (C)    1821 non-null   float64\n",
      " 14  Nighttime Temperature (C)  1821 non-null   float64\n",
      " 15  Climate Type               1821 non-null   int64  \n",
      " 16  Earthquake Risk            1821 non-null   object \n",
      "dtypes: float64(8), int64(4), object(5)\n",
      "memory usage: 242.0+ KB\n"
     ]
    }
   ],
   "source": [
    "mydf.info()"
   ]
  },
  {
   "cell_type": "code",
   "execution_count": 80,
   "id": "2e068447",
   "metadata": {},
   "outputs": [],
   "source": [
    "seattle = mydf.copy()"
   ]
  },
  {
   "cell_type": "code",
   "execution_count": 81,
   "id": "23d5238e",
   "metadata": {},
   "outputs": [],
   "source": [
    "flood_prone_districts = [1, 6, 7]\n",
    "flood_index = seattle.index[(seattle[\"Landmark\"]==\"Coastal\") & ((seattle[\"CouncilDistrictCode\"]==1) | (seattle[\"CouncilDistrictCode\"]==6) | (seattle[\"CouncilDistrictCode\"]==7))].tolist()"
   ]
  },
  {
   "cell_type": "code",
   "execution_count": 82,
   "id": "3b9c467c",
   "metadata": {},
   "outputs": [],
   "source": [
    "drainage_index = seattle.index[((seattle[\"CouncilDistrictCode\"]==5) & ((seattle[\"Landmark\"]==\"Coastal\") | (seattle[\"Landmark\"]==\"Coastal and Green\"))) | (seattle[\"Neighborhood\"]==\"DELRIDGE NEIGHBORHOODS\")].tolist()"
   ]
  },
  {
   "cell_type": "markdown",
   "id": "b7f50660",
   "metadata": {},
   "source": [
    "The rest have no flood risk according to the map here: https://www.seattle.gov/emergency-management/hazards/floods "
   ]
  },
  {
   "cell_type": "markdown",
   "id": "9082b904",
   "metadata": {},
   "source": [
    "Now, label the instances with (1) Flood, (2) Drainage Flood, (3) No Flood"
   ]
  },
  {
   "cell_type": "code",
   "execution_count": 83,
   "id": "d546c28e",
   "metadata": {},
   "outputs": [],
   "source": [
    "for i in drainage_index:\n",
    "    \n",
    "    if i in flood_index:\n",
    "        flood_index.remove(i)"
   ]
  },
  {
   "cell_type": "code",
   "execution_count": 84,
   "id": "111cdac7",
   "metadata": {},
   "outputs": [],
   "source": [
    "for i in range(seattle.shape[0]):\n",
    "    \n",
    "    if i in flood_index:\n",
    "        seattle.loc[i, \"Flood Risk\"] = \"Flood\"\n",
    "        \n",
    "    elif i in drainage_index:\n",
    "        seattle.loc[i, \"Flood Risk\"] = \"Drainage Flood\"\n",
    "        \n",
    "    else:\n",
    "        seattle.loc[i, \"Flood Risk\"] = \"No Flood\""
   ]
  },
  {
   "cell_type": "code",
   "execution_count": 85,
   "id": "63a3f74c",
   "metadata": {},
   "outputs": [
    {
     "data": {
      "text/plain": [
       "No Flood          1230\n",
       "Flood              536\n",
       "Drainage Flood      55\n",
       "Name: Flood Risk, dtype: int64"
      ]
     },
     "execution_count": 85,
     "metadata": {},
     "output_type": "execute_result"
    }
   ],
   "source": [
    "seattle[\"Flood Risk\"].value_counts()"
   ]
  },
  {
   "cell_type": "code",
   "execution_count": 86,
   "id": "2c24740a",
   "metadata": {},
   "outputs": [
    {
     "data": {
      "image/png": "[encoded data removed]",
      "text/plain": [
       "<Figure size 432x288 with 1 Axes>"
      ]
     },
     "metadata": {
      "needs_background": "light"
     },
     "output_type": "display_data"
    }
   ],
   "source": [
    "group = seattle.groupby(by=\"Flood Risk\")[\"Total Consumption (kbtu)\"].mean()\n",
    "\n",
    "plt.figure(figsize=(6, 4))\n",
    "plt.bar(x=group.index.tolist(), height=group.values)\n",
    "plt.xticks(rotation=\"vertical\")\n",
    "plt.title(\"Flood Risk\".upper())\n",
    "plt.show()"
   ]
  },
  {
   "cell_type": "code",
   "execution_count": 87,
   "id": "34c5ea9b",
   "metadata": {},
   "outputs": [
    {
     "name": "stdout",
     "output_type": "stream",
     "text": [
      "<class 'pandas.core.frame.DataFrame'>\n",
      "RangeIndex: 1821 entries, 0 to 1820\n",
      "Data columns (total 18 columns):\n",
      " #   Column                     Non-Null Count  Dtype  \n",
      "---  ------                     --------------  -----  \n",
      " 0   BuildingType               1821 non-null   object \n",
      " 1   Neighborhood               1821 non-null   object \n",
      " 2   CouncilDistrictCode        1821 non-null   float64\n",
      " 3   Latitude                   1821 non-null   float64\n",
      " 4   Longitude                  1821 non-null   float64\n",
      " 5   YearBuilt                  1821 non-null   int64  \n",
      " 6   NumberofFloors             1821 non-null   int64  \n",
      " 7   PropertyGFABuilding(s)     1821 non-null   int64  \n",
      " 8   Total Consumption (kbtu)   1821 non-null   float64\n",
      " 9   Total EUI (kbtu/sf)        1821 non-null   float64\n",
      " 10  Energy Use                 1821 non-null   object \n",
      " 11  Landmark                   1821 non-null   object \n",
      " 12  Wind Speed (kts)           1821 non-null   float64\n",
      " 13  Daytime Temperature (C)    1821 non-null   float64\n",
      " 14  Nighttime Temperature (C)  1821 non-null   float64\n",
      " 15  Climate Type               1821 non-null   int64  \n",
      " 16  Earthquake Risk            1821 non-null   object \n",
      " 17  Flood Risk                 1821 non-null   object \n",
      "dtypes: float64(8), int64(4), object(6)\n",
      "memory usage: 256.2+ KB\n"
     ]
    }
   ],
   "source": [
    "seattle.info()"
   ]
  },
  {
   "cell_type": "code",
   "execution_count": 88,
   "id": "d1409ca2",
   "metadata": {},
   "outputs": [],
   "source": [
    "seattle.to_csv(\"seattle.csv\", index=False)"
   ]
  },
  {
   "cell_type": "markdown",
   "id": "2bcd5261",
   "metadata": {},
   "source": [
    "## 3.3) Demographics"
   ]
  },
  {
   "cell_type": "code",
   "execution_count": 89,
   "id": "f87d7a6f",
   "metadata": {},
   "outputs": [],
   "source": [
    "mydf = pd.read_csv(\"seattle.csv\")"
   ]
  },
  {
   "cell_type": "code",
   "execution_count": 90,
   "id": "eb39a688",
   "metadata": {},
   "outputs": [],
   "source": [
    "seattle = mydf.copy()"
   ]
  },
  {
   "cell_type": "code",
   "execution_count": 91,
   "id": "537c5e0c",
   "metadata": {},
   "outputs": [
    {
     "name": "stdout",
     "output_type": "stream",
     "text": [
      "<class 'pandas.core.frame.DataFrame'>\n",
      "RangeIndex: 1821 entries, 0 to 1820\n",
      "Data columns (total 18 columns):\n",
      " #   Column                     Non-Null Count  Dtype  \n",
      "---  ------                     --------------  -----  \n",
      " 0   BuildingType               1821 non-null   object \n",
      " 1   Neighborhood               1821 non-null   object \n",
      " 2   CouncilDistrictCode        1821 non-null   float64\n",
      " 3   Latitude                   1821 non-null   float64\n",
      " 4   Longitude                  1821 non-null   float64\n",
      " 5   YearBuilt                  1821 non-null   int64  \n",
      " 6   NumberofFloors             1821 non-null   int64  \n",
      " 7   PropertyGFABuilding(s)     1821 non-null   int64  \n",
      " 8   Total Consumption (kbtu)   1821 non-null   float64\n",
      " 9   Total EUI (kbtu/sf)        1821 non-null   float64\n",
      " 10  Energy Use                 1821 non-null   object \n",
      " 11  Landmark                   1821 non-null   object \n",
      " 12  Wind Speed (kts)           1821 non-null   float64\n",
      " 13  Daytime Temperature (C)    1821 non-null   float64\n",
      " 14  Nighttime Temperature (C)  1821 non-null   float64\n",
      " 15  Climate Type               1821 non-null   int64  \n",
      " 16  Earthquake Risk            1821 non-null   object \n",
      " 17  Flood Risk                 1821 non-null   object \n",
      "dtypes: float64(8), int64(4), object(6)\n",
      "memory usage: 256.2+ KB\n"
     ]
    }
   ],
   "source": [
    "seattle.info()"
   ]
  },
  {
   "cell_type": "markdown",
   "id": "e1bc161b",
   "metadata": {},
   "source": [
    "Determine the number of total important facilities, such as industrial, public, and institiutional, from the neighborhood info. Also, insert the \"Reservoirs/Water Bodies\" info for each **CouncilDistrictCode**. Link: https://www.seattle.gov/opcd/population-and-demographics/about-seattle#landusezoningandpermitting"
   ]
  },
  {
   "cell_type": "code",
   "execution_count": 92,
   "id": "0a79e53f",
   "metadata": {},
   "outputs": [
    {
     "data": {
      "text/plain": [
       "EAST                      357\n",
       "MAGNOLIA / QUEEN ANNE     279\n",
       "DOWNTOWN                  229\n",
       "NORTHEAST                 169\n",
       "NORTHWEST                 137\n",
       "SOUTHWEST                 131\n",
       "LAKE UNION                119\n",
       "NORTH                     118\n",
       "CENTRAL                    87\n",
       "BALLARD                    75\n",
       "SOUTHEAST                  50\n",
       "DELRIDGE NEIGHBORHOODS     39\n",
       "GREATER DUWAMISH           31\n",
       "Name: Neighborhood, dtype: int64"
      ]
     },
     "execution_count": 92,
     "metadata": {},
     "output_type": "execute_result"
    }
   ],
   "source": [
    "seattle[\"Neighborhood\"].value_counts()"
   ]
  },
  {
   "cell_type": "code",
   "execution_count": 93,
   "id": "8b821523",
   "metadata": {},
   "outputs": [],
   "source": [
    "water_bodies = [3, 0, 4, 20, 20, 256, 0]\n",
    "\n",
    "for i in range(seattle.shape[0]):\n",
    "    \n",
    "    cd = np.int32(seattle.loc[i, \"CouncilDistrictCode\"])\n",
    "    seattle.loc[i, \"Water Bodies\"] = water_bodies[cd-1]\n",
    "    \n",
    "    if seattle.loc[i, \"Neighborhood\"] == \"EAST\":\n",
    "        seattle.loc[i, \"Commercial\"] = 126\n",
    "        seattle.loc[i, \"Industrial\"] = 29\n",
    "        seattle.loc[i, \"Public Utilities\"] = 130\n",
    "        \n",
    "    elif seattle.loc[i, \"Neighborhood\"] == \"MAGNOLIA / QUEEN ANNE\":\n",
    "        seattle.loc[i, \"Commercial\"] = 234\n",
    "        seattle.loc[i, \"Industrial\"] = 40\n",
    "        seattle.loc[i, \"Public Utilities\"] = 141\n",
    "        \n",
    "    elif seattle.loc[i, \"Neighborhood\"] == \"DOWNTOWN\":\n",
    "        seattle.loc[i, \"Commercial\"] = 168\n",
    "        seattle.loc[i, \"Industrial\"] = 17\n",
    "        seattle.loc[i, \"Public Utilities\"] = 67\n",
    "        \n",
    "    elif seattle.loc[i, \"Neighborhood\"] == \"NORTHEAST\":\n",
    "        seattle.loc[i, \"Commercial\"] = 315\n",
    "        seattle.loc[i, \"Industrial\"] = 46\n",
    "        seattle.loc[i, \"Public Utilities\"] = 796\n",
    "        \n",
    "    elif seattle.loc[i, \"Neighborhood\"] == \"NORTHWEST\":\n",
    "        seattle.loc[i, \"Commercial\"] = 302\n",
    "        seattle.loc[i, \"Industrial\"] = 105\n",
    "        seattle.loc[i, \"Public Utilities\"] = 178\n",
    "        \n",
    "        \n",
    "    elif seattle.loc[i, \"Neighborhood\"] == \"SOUTHWEST\":\n",
    "        seattle.loc[i, \"Commercial\"] = 199\n",
    "        seattle.loc[i, \"Industrial\"] = 143\n",
    "        seattle.loc[i, \"Public Utilities\"] = 362\n",
    "        \n",
    "    elif seattle.loc[i, \"Neighborhood\"] == \"LAKE UNION\":\n",
    "        seattle.loc[i, \"Commercial\"] = 273\n",
    "        seattle.loc[i, \"Industrial\"] = 58\n",
    "        seattle.loc[i, \"Public Utilities\"] = 47\n",
    "        \n",
    "    elif seattle.loc[i, \"Neighborhood\"] == \"NORTH\":\n",
    "        seattle.loc[i, \"Commercial\"] = 471\n",
    "        seattle.loc[i, \"Industrial\"] = 81\n",
    "        seattle.loc[i, \"Public Utilities\"] = 352\n",
    "        \n",
    "    elif seattle.loc[i, \"Neighborhood\"] == \"CENTRAL\":\n",
    "        seattle.loc[i, \"Commercial\"] = 192\n",
    "        seattle.loc[i, \"Industrial\"] = 46\n",
    "        seattle.loc[i, \"Public Utilities\"] = 149\n",
    "        \n",
    "    elif seattle.loc[i, \"Neighborhood\"] == \"BALLARD\":\n",
    "        seattle.loc[i, \"Commercial\"] = 92\n",
    "        seattle.loc[i, \"Industrial\"] = 76\n",
    "        seattle.loc[i, \"Public Utilities\"] = 20\n",
    "        \n",
    "    elif seattle.loc[i, \"Neighborhood\"] == \"SOUTHEAST\":\n",
    "        seattle.loc[i, \"Commercial\"] = 473\n",
    "        seattle.loc[i, \"Industrial\"] = 1043\n",
    "        seattle.loc[i, \"Public Utilities\"] = 1321\n",
    "        \n",
    "    elif seattle.loc[i, \"Neighborhood\"] == \"DELRIDGE NEIGHBORHOODS\":\n",
    "        seattle.loc[i, \"Commercial\"] = 27\n",
    "        seattle.loc[i, \"Industrial\"] = 222\n",
    "        seattle.loc[i, \"Public Utilities\"] = 437\n",
    "        \n",
    "    elif seattle.loc[i, \"Neighborhood\"] == \"GREATER DUWAMISH\":\n",
    "        seattle.loc[i, \"Commercial\"] = 190\n",
    "        seattle.loc[i, \"Industrial\"] = 570\n",
    "        seattle.loc[i, \"Public Utilities\"] = 452\n",
    "        \n",
    "    else:\n",
    "        print(\"ERROR\")"
   ]
  },
  {
   "cell_type": "markdown",
   "id": "3c55a937",
   "metadata": {},
   "source": [
    "Observe the correlation between features and target:"
   ]
  },
  {
   "cell_type": "code",
   "execution_count": 94,
   "id": "ddeb4279",
   "metadata": {},
   "outputs": [
    {
     "data": {
      "text/plain": [
       "CouncilDistrictCode          0.087786\n",
       "Latitude                    -0.076924\n",
       "Longitude                    0.029863\n",
       "YearBuilt                    0.173866\n",
       "NumberofFloors               0.707402\n",
       "PropertyGFABuilding(s)       0.884253\n",
       "Total Consumption (kbtu)     1.000000\n",
       "Total EUI (kbtu/sf)          0.371233\n",
       "Wind Speed (kts)             0.099616\n",
       "Daytime Temperature (C)     -0.032184\n",
       "Nighttime Temperature (C)    0.130781\n",
       "Climate Type                 0.180875\n",
       "Water Bodies                -0.042874\n",
       "Commercial                  -0.098062\n",
       "Industrial                  -0.038829\n",
       "Public Utilities            -0.102065\n",
       "Name: Total Consumption (kbtu), dtype: float64"
      ]
     },
     "execution_count": 94,
     "metadata": {},
     "output_type": "execute_result"
    }
   ],
   "source": [
    "seattle.corr()[\"Total Consumption (kbtu)\"]"
   ]
  },
  {
   "cell_type": "markdown",
   "id": "00ff187d",
   "metadata": {},
   "source": [
    "Save the dataset"
   ]
  },
  {
   "cell_type": "code",
   "execution_count": 95,
   "id": "9e9ce38f",
   "metadata": {},
   "outputs": [],
   "source": [
    "seattle.to_csv(\"seattle.csv\", index=False)"
   ]
  },
  {
   "cell_type": "markdown",
   "id": "d21da353",
   "metadata": {},
   "source": [
    "## 3.4) Energy Efficiency Classes"
   ]
  },
  {
   "cell_type": "markdown",
   "id": "09c2ee17",
   "metadata": {},
   "source": [
    "We will know create a feature called **Energy Efficiency Class** using the above features (Energy Use, 3.1, 3.2, and 3.3)"
   ]
  },
  {
   "cell_type": "code",
   "execution_count": 96,
   "id": "eaeec03d",
   "metadata": {},
   "outputs": [],
   "source": [
    "mydf = pd.read_csv(\"seattle.csv\")"
   ]
  },
  {
   "cell_type": "code",
   "execution_count": 97,
   "id": "78c090fb",
   "metadata": {},
   "outputs": [
    {
     "name": "stdout",
     "output_type": "stream",
     "text": [
      "<class 'pandas.core.frame.DataFrame'>\n",
      "RangeIndex: 1821 entries, 0 to 1820\n",
      "Data columns (total 22 columns):\n",
      " #   Column                     Non-Null Count  Dtype  \n",
      "---  ------                     --------------  -----  \n",
      " 0   BuildingType               1821 non-null   object \n",
      " 1   Neighborhood               1821 non-null   object \n",
      " 2   CouncilDistrictCode        1821 non-null   float64\n",
      " 3   Latitude                   1821 non-null   float64\n",
      " 4   Longitude                  1821 non-null   float64\n",
      " 5   YearBuilt                  1821 non-null   int64  \n",
      " 6   NumberofFloors             1821 non-null   int64  \n",
      " 7   PropertyGFABuilding(s)     1821 non-null   int64  \n",
      " 8   Total Consumption (kbtu)   1821 non-null   float64\n",
      " 9   Total EUI (kbtu/sf)        1821 non-null   float64\n",
      " 10  Energy Use                 1821 non-null   object \n",
      " 11  Landmark                   1821 non-null   object \n",
      " 12  Wind Speed (kts)           1821 non-null   float64\n",
      " 13  Daytime Temperature (C)    1821 non-null   float64\n",
      " 14  Nighttime Temperature (C)  1821 non-null   float64\n",
      " 15  Climate Type               1821 non-null   int64  \n",
      " 16  Earthquake Risk            1821 non-null   object \n",
      " 17  Flood Risk                 1821 non-null   object \n",
      " 18  Water Bodies               1821 non-null   float64\n",
      " 19  Commercial                 1821 non-null   float64\n",
      " 20  Industrial                 1821 non-null   float64\n",
      " 21  Public Utilities           1821 non-null   float64\n",
      "dtypes: float64(12), int64(4), object(6)\n",
      "memory usage: 313.1+ KB\n"
     ]
    }
   ],
   "source": [
    "mydf.info()"
   ]
  },
  {
   "cell_type": "markdown",
   "id": "86c14427",
   "metadata": {},
   "source": [
    "Perform K-Means Clustering to determine the Energy Efficiency Classes"
   ]
  },
  {
   "cell_type": "markdown",
   "id": "8d573063",
   "metadata": {},
   "source": [
    "Try different cluster numbers to obtain the optimal number. We will use the Sum of squared distances of samples to their closest cluster center, called **SSE.**"
   ]
  },
  {
   "cell_type": "code",
   "execution_count": 98,
   "id": "7b2e5f1d",
   "metadata": {},
   "outputs": [
    {
     "data": {
      "image/png": "[encoded data removed]",
      "text/plain": [
       "<Figure size 864x720 with 1 Axes>"
      ]
     },
     "metadata": {
      "needs_background": "light"
     },
     "output_type": "display_data"
    }
   ],
   "source": [
    "from sklearn.cluster import KMeans\n",
    "\n",
    "cluster_features = [\n",
    "    'BuildingType',\n",
    "    'Neighborhood',\n",
    "    'CouncilDistrictCode',\n",
    "    'YearBuilt',\n",
    "    'NumberofFloors',\n",
    "    'PropertyGFABuilding(s)',\n",
    "    'Energy Use',\n",
    "    'Climate Type',\n",
    "    'Earthquake Risk',\n",
    "    'Flood Risk',\n",
    "    'Commercial',\n",
    "    'Industrial',\n",
    "    'Public Utilities',\n",
    "]\n",
    "\n",
    "cluster_df = mydf.loc[:, cluster_features]\n",
    "data = pd.get_dummies(cluster_df)\n",
    "data_train, data_test = train_test_split(\n",
    "    data, test_size=0.20,\n",
    "    stratify=cluster_df[\"Neighborhood\"],\n",
    "    shuffle=True, random_state=42,\n",
    ")\n",
    "\n",
    "sse = list()\n",
    "\n",
    "min_cluster = 2\n",
    "max_cluster = 11\n",
    "\n",
    "for k in range(min_cluster, max_cluster):\n",
    "    kmeans = KMeans(\n",
    "        n_clusters=k, \n",
    "        random_state=42,\n",
    "    )\n",
    "    kmeans.fit(data_train)\n",
    "    sse.append(kmeans.inertia_)\n",
    "    \n",
    "# Visualize results\n",
    "plt.figure(figsize=(12, 10))\n",
    "plt.plot(range(min_cluster, max_cluster), sse)\n",
    "plt.xlabel(\"Number of Cluster\")\n",
    "plt.ylabel(\"Sum of Squared Distances (SSE)\")\n",
    "plt.xticks(range(min_cluster, max_cluster))\n",
    "plt.title(\"Energy Efficiency Class\")\n",
    "plt.show()"
   ]
  },
  {
   "cell_type": "markdown",
   "id": "ef8c73c0",
   "metadata": {},
   "source": [
    "Find the optimal point using KneeLocator. The optimal point is the point where the error reduction slows down. After this point, increasing the cluster number does not improve the results."
   ]
  },
  {
   "cell_type": "code",
   "execution_count": 99,
   "id": "4faf89d0",
   "metadata": {},
   "outputs": [
    {
     "name": "stdout",
     "output_type": "stream",
     "text": [
      "Optimal cluster number: 4\n"
     ]
    }
   ],
   "source": [
    "from kneed import KneeLocator\n",
    "kl = KneeLocator(range(min_cluster, max_cluster), sse, curve=\"convex\", direction=\"decreasing\")\n",
    "best_cluster = kl.elbow\n",
    "print(\"Optimal cluster number:\", best_cluster)"
   ]
  },
  {
   "cell_type": "markdown",
   "id": "daf30560",
   "metadata": {},
   "source": [
    "Fit the clustering model using the optimal cluster number:"
   ]
  },
  {
   "cell_type": "code",
   "execution_count": 100,
   "id": "f713f1ce",
   "metadata": {},
   "outputs": [
    {
     "name": "stdout",
     "output_type": "stream",
     "text": [
      "[[   0  354]\n",
      " [   1 1347]\n",
      " [   2   27]\n",
      " [   3   93]]\n"
     ]
    }
   ],
   "source": [
    "k_means = KMeans(\n",
    "    n_clusters=best_cluster,\n",
    "    random_state=42,\n",
    ")\n",
    "\n",
    "k_means.fit(data_train)\n",
    "labels = k_means.predict(data)\n",
    "\n",
    "unique, counts = np.unique(labels, return_counts=True)\n",
    "\n",
    "print(np.asarray((unique, counts)).T)"
   ]
  },
  {
   "cell_type": "code",
   "execution_count": 101,
   "id": "83e5832c",
   "metadata": {},
   "outputs": [],
   "source": [
    "mydf.loc[:, \"Energy Efficiency Class\"] = labels"
   ]
  },
  {
   "cell_type": "markdown",
   "id": "01d36488",
   "metadata": {},
   "source": [
    "Observe the correlation between features and target:"
   ]
  },
  {
   "cell_type": "code",
   "execution_count": 102,
   "id": "40c146ea",
   "metadata": {},
   "outputs": [
    {
     "data": {
      "text/plain": [
       "CouncilDistrictCode          0.087786\n",
       "Latitude                    -0.076924\n",
       "Longitude                    0.029863\n",
       "YearBuilt                    0.173866\n",
       "NumberofFloors               0.707402\n",
       "PropertyGFABuilding(s)       0.884253\n",
       "Total Consumption (kbtu)     1.000000\n",
       "Total EUI (kbtu/sf)          0.371233\n",
       "Wind Speed (kts)             0.099616\n",
       "Daytime Temperature (C)     -0.032184\n",
       "Nighttime Temperature (C)    0.130781\n",
       "Climate Type                 0.180875\n",
       "Water Bodies                -0.042874\n",
       "Commercial                  -0.098062\n",
       "Industrial                  -0.038829\n",
       "Public Utilities            -0.102065\n",
       "Energy Efficiency Class      0.297826\n",
       "Name: Total Consumption (kbtu), dtype: float64"
      ]
     },
     "execution_count": 102,
     "metadata": {},
     "output_type": "execute_result"
    }
   ],
   "source": [
    "mydf.corr()[\"Total Consumption (kbtu)\"]"
   ]
  },
  {
   "cell_type": "code",
   "execution_count": 103,
   "id": "04867d56",
   "metadata": {},
   "outputs": [
    {
     "data": {
      "image/png": "[encoded data removed]",
      "text/plain": [
       "<Figure size 576x288 with 1 Axes>"
      ]
     },
     "metadata": {
      "needs_background": "light"
     },
     "output_type": "display_data"
    }
   ],
   "source": [
    "group = mydf.groupby(by=\"Energy Efficiency Class\")[\"Total Consumption (kbtu)\"].mean()\n",
    "\n",
    "plt.figure(figsize=(8, 4))\n",
    "plt.bar(x=group.index.tolist(), height=group.values)\n",
    "plt.xticks(np.arange(0, 4), rotation=\"vertical\")\n",
    "plt.xlabel(\"Energy Efficiency Class\")\n",
    "plt.ylabel(\"Average Energy Consumption (kBtu)\")\n",
    "plt.show()"
   ]
  },
  {
   "cell_type": "markdown",
   "id": "bf1d3f9f",
   "metadata": {},
   "source": [
    "Finally, save the dataset"
   ]
  },
  {
   "cell_type": "code",
   "execution_count": 104,
   "id": "1a16048d",
   "metadata": {},
   "outputs": [],
   "source": [
    "mydf.to_csv(\"ready_data.csv\", index=False)"
   ]
  },
  {
   "cell_type": "code",
   "execution_count": 105,
   "id": "366299d4",
   "metadata": {},
   "outputs": [
    {
     "name": "stdout",
     "output_type": "stream",
     "text": [
      "<class 'pandas.core.frame.DataFrame'>\n",
      "RangeIndex: 1821 entries, 0 to 1820\n",
      "Data columns (total 23 columns):\n",
      " #   Column                     Non-Null Count  Dtype  \n",
      "---  ------                     --------------  -----  \n",
      " 0   BuildingType               1821 non-null   object \n",
      " 1   Neighborhood               1821 non-null   object \n",
      " 2   CouncilDistrictCode        1821 non-null   float64\n",
      " 3   Latitude                   1821 non-null   float64\n",
      " 4   Longitude                  1821 non-null   float64\n",
      " 5   YearBuilt                  1821 non-null   int64  \n",
      " 6   NumberofFloors             1821 non-null   int64  \n",
      " 7   PropertyGFABuilding(s)     1821 non-null   int64  \n",
      " 8   Total Consumption (kbtu)   1821 non-null   float64\n",
      " 9   Total EUI (kbtu/sf)        1821 non-null   float64\n",
      " 10  Energy Use                 1821 non-null   object \n",
      " 11  Landmark                   1821 non-null   object \n",
      " 12  Wind Speed (kts)           1821 non-null   float64\n",
      " 13  Daytime Temperature (C)    1821 non-null   float64\n",
      " 14  Nighttime Temperature (C)  1821 non-null   float64\n",
      " 15  Climate Type               1821 non-null   int64  \n",
      " 16  Earthquake Risk            1821 non-null   object \n",
      " 17  Flood Risk                 1821 non-null   object \n",
      " 18  Water Bodies               1821 non-null   float64\n",
      " 19  Commercial                 1821 non-null   float64\n",
      " 20  Industrial                 1821 non-null   float64\n",
      " 21  Public Utilities           1821 non-null   float64\n",
      " 22  Energy Efficiency Class    1821 non-null   int32  \n",
      "dtypes: float64(12), int32(1), int64(4), object(6)\n",
      "memory usage: 320.2+ KB\n"
     ]
    }
   ],
   "source": [
    "mydf.info()"
   ]
  },
  {
   "cell_type": "markdown",
   "id": "5b92a192",
   "metadata": {},
   "source": [
    "# END"
   ]
  }
 ],
 "metadata": {
  "kernelspec": {
   "display_name": "Python 3 (ipykernel)",
   "language": "python",
   "name": "python3"
  },
  "language_info": {
   "codemirror_mode": {
    "name": "ipython",
    "version": 3
   },
   "file_extension": ".py",
   "mimetype": "text/x-python",
   "name": "python",
   "nbconvert_exporter": "python",
   "pygments_lexer": "ipython3",
   "version": "3.7.13"
  }
 },
 "nbformat": 4,
 "nbformat_minor": 5
}
